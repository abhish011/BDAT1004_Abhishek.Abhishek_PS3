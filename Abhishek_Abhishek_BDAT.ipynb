{
 "cells": [
  {
   "cell_type": "markdown",
   "id": "b9169730-eb08-4e62-947c-1bb5650cb85a",
   "metadata": {},
   "source": [
    "\"# PROBLEM SET 3\""
   ]
  },
  {
   "cell_type": "markdown",
   "id": "11389f8a-8a7b-4cbb-956e-ac85a9bdbed5",
   "metadata": {},
   "source": [
    "\"Submitted by: Abhishek Abhishek\""
   ]
  },
  {
   "cell_type": "markdown",
   "id": "ade00e97-0e12-4dd6-8bb6-b90c55ca49d3",
   "metadata": {},
   "source": [
    "List of libraries used for all the questions"
   ]
  },
  {
   "cell_type": "code",
   "execution_count": 4,
   "id": "7c6dafdb-4229-4037-adc0-4294d4336db9",
   "metadata": {},
   "outputs": [
    {
     "name": "stderr",
     "output_type": "stream",
     "text": [
      "Matplotlib is building the font cache; this may take a moment.\n"
     ]
    }
   ],
   "source": [
    "import pandas as pd\n",
    "import numpy as np\n",
    "import matplotlib.pyplot as plt"
   ]
  },
  {
   "cell_type": "markdown",
   "id": "aa33b92d-fd7a-41bc-8470-7a6e8de626c2",
   "metadata": {},
   "source": [
    "Question 1: Occupations\n",
    "Introduction:\n",
    "Special thanks to justmarkham for sharing the dataset and materials.\n",
    "\n",
    "Step 1: Import the necessary libraries\n",
    "Step 2: Import the dataset from this address.\n",
    "Step 3: Assign it to a variable called users\n",
    "Step 4: Discover the mean age per occupation\n",
    "Step 5: Discover the Male ratio per occupation and sort it from the most to the least\n",
    "Step 6: For each occupation, calculate the minimum and maximum ages\n",
    "Step 7: For each combination of occupation and sex, calculate the mean age\n",
    "Step 8: For each occupation, present the percentage of women and men"
   ]
  },
  {
   "cell_type": "code",
   "execution_count": 5,
   "id": "fb180287-22c6-4358-bf08-b982762c8810",
   "metadata": {},
   "outputs": [],
   "source": [
    "import pandas as pd\n",
    "\n",
    "#\"Retrieve user data from the given URL and load it into the system.\"\n",
    "url = \"https://raw.githubusercontent.com/justmarkham/DAT8/master/data/u.user\"\n",
    "users = pd.read_csv(url, sep='|')\n",
    "\n",
    "# Determine the mean age for each profession.\n",
    "occupation_mean_age = users.groupby('occupation')['age'].mean()\n",
    "\n",
    "#Compute the proportion of male users within each occupation.\n",
    "occupation_male_ratio = users[users['gender'] == 'M'].groupby('occupation')['gender'].count() / users.groupby('occupation')['gender'].count()\n",
    "\n",
    "# Arrange the male proportion by occupation in descending sequence.\n",
    "sorted_male_ratio = occupation_male_ratio.sort_values(ascending=False)\n",
    "\n",
    "# Evaluate the lowest and highest ages within each occupation.\n",
    "occupation_age_range = users.groupby('occupation')['age'].agg(['min', 'max'])\n",
    "\n",
    "# Compute the mean age for each combination of profession and gender.\n",
    "occupation_gender_mean_age = users.groupby(['occupation', 'gender'])['age'].mean()\n",
    "\n",
    "# Determine the percentage breakdown of genders for each occupation.\n",
    "occupation_gender_percentage = users.groupby(['occupation', 'gender'])['gender'].count() / users.groupby('occupation')['gender'].count() * 100"
   ]
  },
  {
   "cell_type": "markdown",
   "id": "eb739c8a-d336-4345-acea-b3c839eecc1f",
   "metadata": {},
   "source": [
    "Step 4: Discover the mean age per occupation"
   ]
  },
  {
   "cell_type": "code",
   "execution_count": 6,
   "id": "e963661b-1190-4c00-9c8c-000c24051c71",
   "metadata": {},
   "outputs": [
    {
     "name": "stdout",
     "output_type": "stream",
     "text": [
      "Average Age per Occupation:\n",
      "occupation\n",
      "administrator    38.746835\n",
      "artist           31.392857\n",
      "doctor           43.571429\n",
      "educator         42.010526\n",
      "engineer         36.388060\n",
      "entertainment    29.222222\n",
      "executive        38.718750\n",
      "healthcare       41.562500\n",
      "homemaker        32.571429\n",
      "lawyer           36.750000\n",
      "librarian        40.000000\n",
      "marketing        37.615385\n",
      "none             26.555556\n",
      "other            34.523810\n",
      "programmer       33.121212\n",
      "retired          63.071429\n",
      "salesman         35.666667\n",
      "scientist        35.548387\n",
      "student          22.081633\n",
      "technician       33.148148\n",
      "writer           36.311111\n",
      "Name: age, dtype: float64\n"
     ]
    }
   ],
   "source": [
    "# Present or showcase the obtained results.\n",
    "print(\"Average Age per Occupation:\")\n",
    "print(occupation_mean_age)"
   ]
  },
  {
   "cell_type": "markdown",
   "id": "7ce0341d-334d-4468-9ca0-757b97c83fba",
   "metadata": {},
   "source": [
    "Step 5: Discover the Male ratio per occupation and sort it from the most to the least"
   ]
  },
  {
   "cell_type": "code",
   "execution_count": 7,
   "id": "dbe1a194-14da-401d-9c15-d252e63a6734",
   "metadata": {},
   "outputs": [
    {
     "name": "stdout",
     "output_type": "stream",
     "text": [
      "\n",
      "Male Ratio per Occupation (Sorted):\n",
      "occupation\n",
      "doctor           1.000000\n",
      "engineer         0.970149\n",
      "technician       0.962963\n",
      "retired          0.928571\n",
      "programmer       0.909091\n",
      "executive        0.906250\n",
      "scientist        0.903226\n",
      "entertainment    0.888889\n",
      "lawyer           0.833333\n",
      "salesman         0.750000\n",
      "educator         0.726316\n",
      "student          0.693878\n",
      "other            0.657143\n",
      "marketing        0.615385\n",
      "writer           0.577778\n",
      "none             0.555556\n",
      "administrator    0.544304\n",
      "artist           0.535714\n",
      "librarian        0.431373\n",
      "healthcare       0.312500\n",
      "homemaker        0.142857\n",
      "Name: gender, dtype: float64\n"
     ]
    }
   ],
   "source": [
    "print(\"\\nMale Ratio per Occupation (Sorted):\")\n",
    "print(sorted_male_ratio)"
   ]
  },
  {
   "cell_type": "markdown",
   "id": "9cbd0a7f-0294-4148-bf83-2247b028b3c7",
   "metadata": {},
   "source": [
    "Step 6: For each occupation, calculate the minimum and maximum ages"
   ]
  },
  {
   "cell_type": "code",
   "execution_count": 8,
   "id": "6883e706-15e0-476b-8178-ccc1eada35f4",
   "metadata": {},
   "outputs": [
    {
     "name": "stdout",
     "output_type": "stream",
     "text": [
      "\n",
      "Age Range per Occupation:\n",
      "               min  max\n",
      "occupation             \n",
      "administrator   21   70\n",
      "artist          19   48\n",
      "doctor          28   64\n",
      "educator        23   63\n",
      "engineer        22   70\n",
      "entertainment   15   50\n",
      "executive       22   69\n",
      "healthcare      22   62\n",
      "homemaker       20   50\n",
      "lawyer          21   53\n",
      "librarian       23   69\n",
      "marketing       24   55\n",
      "none            11   55\n",
      "other           13   64\n",
      "programmer      20   63\n",
      "retired         51   73\n",
      "salesman        18   66\n",
      "scientist       23   55\n",
      "student          7   42\n",
      "technician      21   55\n",
      "writer          18   60\n"
     ]
    }
   ],
   "source": [
    "print(\"\\nAge Range per Occupation:\")\n",
    "print(occupation_age_range)"
   ]
  },
  {
   "cell_type": "markdown",
   "id": "ab4e0baf-de90-4016-ba53-283b932eaec5",
   "metadata": {},
   "source": [
    "Step 7: For each combination of occupation and sex, calculate the mean age"
   ]
  },
  {
   "cell_type": "code",
   "execution_count": 9,
   "id": "a9dced7c-0809-4aad-ac8f-869ec379344f",
   "metadata": {},
   "outputs": [
    {
     "name": "stdout",
     "output_type": "stream",
     "text": [
      "\n",
      "Average Age per Combination of Occupation and Gender:\n",
      "occupation     gender\n",
      "administrator  F         40.638889\n",
      "               M         37.162791\n",
      "artist         F         30.307692\n",
      "               M         32.333333\n",
      "doctor         M         43.571429\n",
      "educator       F         39.115385\n",
      "               M         43.101449\n",
      "engineer       F         29.500000\n",
      "               M         36.600000\n",
      "entertainment  F         31.000000\n",
      "               M         29.000000\n",
      "executive      F         44.000000\n",
      "               M         38.172414\n",
      "healthcare     F         39.818182\n",
      "               M         45.400000\n",
      "homemaker      F         34.166667\n",
      "               M         23.000000\n",
      "lawyer         F         39.500000\n",
      "               M         36.200000\n",
      "librarian      F         40.000000\n",
      "               M         40.000000\n",
      "marketing      F         37.200000\n",
      "               M         37.875000\n",
      "none           F         36.500000\n",
      "               M         18.600000\n",
      "other          F         35.472222\n",
      "               M         34.028986\n",
      "programmer     F         32.166667\n",
      "               M         33.216667\n",
      "retired        F         70.000000\n",
      "               M         62.538462\n",
      "salesman       F         27.000000\n",
      "               M         38.555556\n",
      "scientist      F         28.333333\n",
      "               M         36.321429\n",
      "student        F         20.750000\n",
      "               M         22.669118\n",
      "technician     F         38.000000\n",
      "               M         32.961538\n",
      "writer         F         37.631579\n",
      "               M         35.346154\n",
      "Name: age, dtype: float64\n"
     ]
    }
   ],
   "source": [
    "print(\"\\nAverage Age per Combination of Occupation and Gender:\")\n",
    "print(occupation_gender_mean_age)"
   ]
  },
  {
   "cell_type": "markdown",
   "id": "b765b9de-c1c5-4b8d-b0e2-06764e702db4",
   "metadata": {},
   "source": [
    "Step 8: For each occupation, present the percentage of women and men"
   ]
  },
  {
   "cell_type": "code",
   "execution_count": 10,
   "id": "cf72907f-53df-4135-98fe-e453b9c7eec6",
   "metadata": {},
   "outputs": [
    {
     "name": "stdout",
     "output_type": "stream",
     "text": [
      "\n",
      "Gender Percentage per Occupation:\n",
      "occupation     gender\n",
      "administrator  F          45.569620\n",
      "               M          54.430380\n",
      "artist         F          46.428571\n",
      "               M          53.571429\n",
      "doctor         M         100.000000\n",
      "educator       F          27.368421\n",
      "               M          72.631579\n",
      "engineer       F           2.985075\n",
      "               M          97.014925\n",
      "entertainment  F          11.111111\n",
      "               M          88.888889\n",
      "executive      F           9.375000\n",
      "               M          90.625000\n",
      "healthcare     F          68.750000\n",
      "               M          31.250000\n",
      "homemaker      F          85.714286\n",
      "               M          14.285714\n",
      "lawyer         F          16.666667\n",
      "               M          83.333333\n",
      "librarian      F          56.862745\n",
      "               M          43.137255\n",
      "marketing      F          38.461538\n",
      "               M          61.538462\n",
      "none           F          44.444444\n",
      "               M          55.555556\n",
      "other          F          34.285714\n",
      "               M          65.714286\n",
      "programmer     F           9.090909\n",
      "               M          90.909091\n",
      "retired        F           7.142857\n",
      "               M          92.857143\n",
      "salesman       F          25.000000\n",
      "               M          75.000000\n",
      "scientist      F           9.677419\n",
      "               M          90.322581\n",
      "student        F          30.612245\n",
      "               M          69.387755\n",
      "technician     F           3.703704\n",
      "               M          96.296296\n",
      "writer         F          42.222222\n",
      "               M          57.777778\n",
      "Name: gender, dtype: float64\n"
     ]
    }
   ],
   "source": [
    "print(\"\\nGender Percentage per Occupation:\")\n",
    "print(occupation_gender_percentage)"
   ]
  },
  {
   "cell_type": "markdown",
   "id": "23485f64-766b-42da-ada8-c5dcc168c270",
   "metadata": {},
   "source": [
    "Question 2: Euro Teams"
   ]
  },
  {
   "cell_type": "markdown",
   "id": "a1e95ce5-f406-4820-8ac5-2ca94ca41781",
   "metadata": {},
   "source": [
    "Step 1. Import the necessary libraries\n",
    "Step 2. Import the dataset from this address\n",
    "Step 3. Assign it to a variable called euro12\n",
    "Step 4. Select only the Goal column\n",
    "Step 5. How many teams participated in the Euro 2012?\n",
    "Step 6. What is the number of columns in the dataset?\n",
    "Step 7. View only the columns Team, Yellow Cards, and Red Cards and assign them to a dataframe called discipline\n",
    "Step 8. Sort the teams by Red Cards, then by Yellow Cards\n",
    "Step 9. Calculate the mean Yellow Cards given per Team\n",
    "Step 10. Filter teams that scored more than 6 goals\n",
    "Step 11. Select the teams that start with the letter \"G\"\n",
    "Step 12. Select the first 7 columns\n",
    "Step 13. Select all columns except the last 3\n",
    "Step 14. Present only the Shooting Accuracy from the teams England, Italy, and Russia"
   ]
  },
  {
   "cell_type": "code",
   "execution_count": 13,
   "id": "1bb25036-3b73-4c90-a83f-b13331b98c9a",
   "metadata": {},
   "outputs": [],
   "source": [
    "import pandas as pd\n",
    "\n",
    "# Import the dataset containing Euro 2012 statistics.\n",
    "url = \"https://raw.githubusercontent.com/guipsamora/pandas_exercises/master/02_Filtering_%26_Sorting/Euro12/Euro_2012_stats_TEAM.csv\"\n",
    "euro12 = pd.read_csv(url)\n",
    "\n",
    "# Retrieve the data from the 'Goals' column.\n",
    "goals = euro12['Goals']\n",
    "\n",
    "# Determine the count of teams that participated in Euro 2012.\n",
    "num_participating_teams = euro12.shape[0]\n",
    "\n",
    "# Find out the total count of columns in the Euro 2012 dataset.\n",
    "num_data_columns = euro12.shape[1]\n",
    "\n",
    "# Construct a DataFrame to represent disciplinary actions, including columns for 'Team', 'Yellow Cards', and 'Red Cards'.\n",
    "disciplinary_actions = euro12[['Team', 'Yellow Cards', 'Red Cards']]\n",
    "\n",
    "# Arrange the teams in order based on the number of Red Cards and then Yellow Cards.\n",
    "sorted_disciplinary_actions = disciplinary_actions.sort_values(by=['Red Cards', 'Yellow Cards'], ascending=[False, False])\n",
    "\n",
    "# Compute the average number of Yellow Cards issued per team.\n",
    "mean_yellow_cards_per_team = disciplinary_actions.groupby('Team')['Yellow Cards'].mean()\n",
    "\n",
    "# Select teams that have scored more than 6 goals.\n",
    "teams_with_more_than_six_goals = euro12[euro12['Goals'] > 6]\n",
    "\n",
    "# Filter whose names begin with the letter 'G'.\n",
    "teams_starting_with_G = euro12[euro12['Team'].str.startswith('G')]\n",
    "\n",
    "# Retrieve the data from the first 7 columns of the dataset.\n",
    "first_seven_columns = euro12.iloc[:, :7]\n",
    "\n",
    "# Retrieve data from all columns except the last three.\n",
    "all_columns_except_last_three = euro12.iloc[:, :-3]\n",
    "\n",
    "# Retrieve the data for Shooting Accuracy from specific teams (England, Italy, Russia).\n",
    "shooting_accuracy_selected_teams = euro12[euro12['Team'].isin(['England', 'Italy', 'Russia'])][['Team', 'Shooting Accuracy']]"
   ]
  },
  {
   "cell_type": "markdown",
   "id": "c41844cd-7070-4347-a89e-af7df4d16408",
   "metadata": {},
   "source": [
    "Step 5. How many teams participated in the Euro 2012?"
   ]
  },
  {
   "cell_type": "code",
   "execution_count": 14,
   "id": "a54c8097-efcc-4161-92c3-8cbb5e4e167c",
   "metadata": {},
   "outputs": [
    {
     "name": "stdout",
     "output_type": "stream",
     "text": [
      "Number of teams that participated in Euro 2012: 16\n"
     ]
    }
   ],
   "source": [
    "# Display the results\n",
    "print(\"Number of teams that participated in Euro 2012:\", num_participating_teams)"
   ]
  },
  {
   "cell_type": "markdown",
   "id": "b4ebfc28-e071-4454-a867-0e52392175d0",
   "metadata": {},
   "source": [
    "Step 6. What is the number of columns in the dataset?"
   ]
  },
  {
   "cell_type": "code",
   "execution_count": 15,
   "id": "283886e2-3d9f-4c9f-8cd7-afaa9c304b0f",
   "metadata": {},
   "outputs": [
    {
     "name": "stdout",
     "output_type": "stream",
     "text": [
      "Number of columns in the Euro 2012 dataset: 35\n"
     ]
    }
   ],
   "source": [
    "print(\"Number of columns in the Euro 2012 dataset:\", num_data_columns)"
   ]
  },
  {
   "cell_type": "markdown",
   "id": "f86541b3-dad7-4577-9f98-fc7532cb59b7",
   "metadata": {},
   "source": [
    "Step 7. View only the columns Team, Yellow Cards, and Red Cards and assign them to a dataframe called discipline"
   ]
  },
  {
   "cell_type": "code",
   "execution_count": 16,
   "id": "17e29ac1-f170-4d44-aaea-6d12898c1742",
   "metadata": {},
   "outputs": [
    {
     "name": "stdout",
     "output_type": "stream",
     "text": [
      "\n",
      "Disciplinary actions per team:\n",
      "                   Team  Yellow Cards  Red Cards\n",
      "0               Croatia             9          0\n",
      "1        Czech Republic             7          0\n",
      "2               Denmark             4          0\n",
      "3               England             5          0\n",
      "4                France             6          0\n",
      "5               Germany             4          0\n",
      "6                Greece             9          1\n",
      "7                 Italy            16          0\n",
      "8           Netherlands             5          0\n",
      "9                Poland             7          1\n",
      "10             Portugal            12          0\n",
      "11  Republic of Ireland             6          1\n",
      "12               Russia             6          0\n",
      "13                Spain            11          0\n",
      "14               Sweden             7          0\n",
      "15              Ukraine             5          0\n"
     ]
    }
   ],
   "source": [
    "print(\"\\nDisciplinary actions per team:\")\n",
    "print(disciplinary_actions)"
   ]
  },
  {
   "cell_type": "markdown",
   "id": "acbc89e3-8c98-4bfd-bd6f-69ad1a0232d8",
   "metadata": {},
   "source": [
    "Step 8. Sort the teams by Red Cards, then by Yellow Cards"
   ]
  },
  {
   "cell_type": "code",
   "execution_count": 17,
   "id": "2215a45a-0cd2-49ef-a17a-7d8b2f780963",
   "metadata": {},
   "outputs": [
    {
     "name": "stdout",
     "output_type": "stream",
     "text": [
      "\n",
      "Teams sorted by Red Cards and Yellow Cards:\n",
      "                   Team  Yellow Cards  Red Cards\n",
      "6                Greece             9          1\n",
      "9                Poland             7          1\n",
      "11  Republic of Ireland             6          1\n",
      "7                 Italy            16          0\n",
      "10             Portugal            12          0\n",
      "13                Spain            11          0\n",
      "0               Croatia             9          0\n",
      "1        Czech Republic             7          0\n",
      "14               Sweden             7          0\n",
      "4                France             6          0\n",
      "12               Russia             6          0\n",
      "3               England             5          0\n",
      "8           Netherlands             5          0\n",
      "15              Ukraine             5          0\n",
      "2               Denmark             4          0\n",
      "5               Germany             4          0\n"
     ]
    }
   ],
   "source": [
    "print(\"\\nTeams sorted by Red Cards and Yellow Cards:\")\n",
    "print(sorted_disciplinary_actions)"
   ]
  },
  {
   "cell_type": "markdown",
   "id": "02084911-082d-4a55-9726-66cb1bd542c5",
   "metadata": {},
   "source": [
    "Step 9. Calculate the mean Yellow Cards given per Team"
   ]
  },
  {
   "cell_type": "code",
   "execution_count": 18,
   "id": "09163869-d68d-480e-a7ea-93d79d63a07d",
   "metadata": {},
   "outputs": [
    {
     "name": "stdout",
     "output_type": "stream",
     "text": [
      "\n",
      "Mean Yellow Cards per team:\n",
      "Team\n",
      "Croatia                 9.0\n",
      "Czech Republic          7.0\n",
      "Denmark                 4.0\n",
      "England                 5.0\n",
      "France                  6.0\n",
      "Germany                 4.0\n",
      "Greece                  9.0\n",
      "Italy                  16.0\n",
      "Netherlands             5.0\n",
      "Poland                  7.0\n",
      "Portugal               12.0\n",
      "Republic of Ireland     6.0\n",
      "Russia                  6.0\n",
      "Spain                  11.0\n",
      "Sweden                  7.0\n",
      "Ukraine                 5.0\n",
      "Name: Yellow Cards, dtype: float64\n"
     ]
    }
   ],
   "source": [
    "print(\"\\nMean Yellow Cards per team:\")\n",
    "print(mean_yellow_cards_per_team)"
   ]
  },
  {
   "cell_type": "markdown",
   "id": "7e237120-8650-4c5a-9948-fb891a623d1b",
   "metadata": {},
   "source": [
    "Step 10. Filter teams that scored more than 6 goals"
   ]
  },
  {
   "cell_type": "code",
   "execution_count": 19,
   "id": "177ab55c-34fc-45c6-a661-1f1b6481828a",
   "metadata": {},
   "outputs": [
    {
     "name": "stdout",
     "output_type": "stream",
     "text": [
      "\n",
      "Teams that scored more than 6 goals:\n",
      "       Team  Goals  Shots on target  Shots off target Shooting Accuracy  \\\n",
      "5   Germany     10               32                32             47.8%   \n",
      "13    Spain     12               42                33             55.9%   \n",
      "\n",
      "   % Goals-to-shots  Total shots (inc. Blocked)  Hit Woodwork  Penalty goals  \\\n",
      "5             15.6%                          80             2              1   \n",
      "13            16.0%                         100             0              1   \n",
      "\n",
      "    Penalties not scored  ...  Saves made  Saves-to-shots ratio  Fouls Won  \\\n",
      "5                      0  ...          10                 62.6%         63   \n",
      "13                     0  ...          15                 93.8%        102   \n",
      "\n",
      "   Fouls Conceded  Offsides  Yellow Cards  Red Cards  Subs on  Subs off  \\\n",
      "5              49        12             4          0       15        15   \n",
      "13             83        19            11          0       17        17   \n",
      "\n",
      "    Players Used  \n",
      "5             17  \n",
      "13            18  \n",
      "\n",
      "[2 rows x 35 columns]\n"
     ]
    }
   ],
   "source": [
    "print(\"\\nTeams that scored more than 6 goals:\")\n",
    "print(teams_with_more_than_six_goals)"
   ]
  },
  {
   "cell_type": "markdown",
   "id": "88658365-c5c7-4254-953f-d9714c34fe2b",
   "metadata": {},
   "source": [
    "step 11. Select the teams that start with the letter \"G\""
   ]
  },
  {
   "cell_type": "code",
   "execution_count": 20,
   "id": "45d8964b-36bc-4652-af2a-5af98a47a3cd",
   "metadata": {},
   "outputs": [
    {
     "name": "stdout",
     "output_type": "stream",
     "text": [
      "\n",
      "Teams whose names start with 'G':\n",
      "      Team  Goals  Shots on target  Shots off target Shooting Accuracy  \\\n",
      "5  Germany     10               32                32             47.8%   \n",
      "6   Greece      5                8                18             30.7%   \n",
      "\n",
      "  % Goals-to-shots  Total shots (inc. Blocked)  Hit Woodwork  Penalty goals  \\\n",
      "5            15.6%                          80             2              1   \n",
      "6            19.2%                          32             1              1   \n",
      "\n",
      "   Penalties not scored  ...  Saves made  Saves-to-shots ratio  Fouls Won  \\\n",
      "5                     0  ...          10                 62.6%         63   \n",
      "6                     1  ...          13                 65.1%         67   \n",
      "\n",
      "  Fouls Conceded  Offsides  Yellow Cards  Red Cards  Subs on  Subs off  \\\n",
      "5             49        12             4          0       15        15   \n",
      "6             48        12             9          1       12        12   \n",
      "\n",
      "   Players Used  \n",
      "5            17  \n",
      "6            20  \n",
      "\n",
      "[2 rows x 35 columns]\n"
     ]
    }
   ],
   "source": [
    "print(\"\\nTeams whose names start with 'G':\")\n",
    "print(teams_starting_with_G)"
   ]
  },
  {
   "cell_type": "markdown",
   "id": "378297d4-d1d5-473c-aea0-54febde62a68",
   "metadata": {},
   "source": [
    "Step 12. Select the first 7 columns"
   ]
  },
  {
   "cell_type": "code",
   "execution_count": 21,
   "id": "58fd322b-9da0-4d82-bd2e-0456f347757c",
   "metadata": {},
   "outputs": [
    {
     "name": "stdout",
     "output_type": "stream",
     "text": [
      "\n",
      "First 7 columns of the dataset:\n",
      "                   Team  Goals  Shots on target  Shots off target  \\\n",
      "0               Croatia      4               13                12   \n",
      "1        Czech Republic      4               13                18   \n",
      "2               Denmark      4               10                10   \n",
      "3               England      5               11                18   \n",
      "4                France      3               22                24   \n",
      "5               Germany     10               32                32   \n",
      "6                Greece      5                8                18   \n",
      "7                 Italy      6               34                45   \n",
      "8           Netherlands      2               12                36   \n",
      "9                Poland      2               15                23   \n",
      "10             Portugal      6               22                42   \n",
      "11  Republic of Ireland      1                7                12   \n",
      "12               Russia      5                9                31   \n",
      "13                Spain     12               42                33   \n",
      "14               Sweden      5               17                19   \n",
      "15              Ukraine      2                7                26   \n",
      "\n",
      "   Shooting Accuracy % Goals-to-shots  Total shots (inc. Blocked)  \n",
      "0              51.9%            16.0%                          32  \n",
      "1              41.9%            12.9%                          39  \n",
      "2              50.0%            20.0%                          27  \n",
      "3              50.0%            17.2%                          40  \n",
      "4              37.9%             6.5%                          65  \n",
      "5              47.8%            15.6%                          80  \n",
      "6              30.7%            19.2%                          32  \n",
      "7              43.0%             7.5%                         110  \n",
      "8              25.0%             4.1%                          60  \n",
      "9              39.4%             5.2%                          48  \n",
      "10             34.3%             9.3%                          82  \n",
      "11             36.8%             5.2%                          28  \n",
      "12             22.5%            12.5%                          59  \n",
      "13             55.9%            16.0%                         100  \n",
      "14             47.2%            13.8%                          39  \n",
      "15             21.2%             6.0%                          38  \n"
     ]
    }
   ],
   "source": [
    "print(\"\\nFirst 7 columns of the dataset:\")\n",
    "print(first_seven_columns)"
   ]
  },
  {
   "cell_type": "markdown",
   "id": "5a0fa502-39bb-46b9-97e8-92872c602857",
   "metadata": {},
   "source": [
    "Step 13. Select all columns except the last 3"
   ]
  },
  {
   "cell_type": "code",
   "execution_count": 22,
   "id": "aefef22e-8b24-4dd2-bcf8-638200fdf1b6",
   "metadata": {},
   "outputs": [
    {
     "name": "stdout",
     "output_type": "stream",
     "text": [
      "\n",
      "All columns except the last 3:\n",
      "                   Team  Goals  Shots on target  Shots off target  \\\n",
      "0               Croatia      4               13                12   \n",
      "1        Czech Republic      4               13                18   \n",
      "2               Denmark      4               10                10   \n",
      "3               England      5               11                18   \n",
      "4                France      3               22                24   \n",
      "5               Germany     10               32                32   \n",
      "6                Greece      5                8                18   \n",
      "7                 Italy      6               34                45   \n",
      "8           Netherlands      2               12                36   \n",
      "9                Poland      2               15                23   \n",
      "10             Portugal      6               22                42   \n",
      "11  Republic of Ireland      1                7                12   \n",
      "12               Russia      5                9                31   \n",
      "13                Spain     12               42                33   \n",
      "14               Sweden      5               17                19   \n",
      "15              Ukraine      2                7                26   \n",
      "\n",
      "   Shooting Accuracy % Goals-to-shots  Total shots (inc. Blocked)  \\\n",
      "0              51.9%            16.0%                          32   \n",
      "1              41.9%            12.9%                          39   \n",
      "2              50.0%            20.0%                          27   \n",
      "3              50.0%            17.2%                          40   \n",
      "4              37.9%             6.5%                          65   \n",
      "5              47.8%            15.6%                          80   \n",
      "6              30.7%            19.2%                          32   \n",
      "7              43.0%             7.5%                         110   \n",
      "8              25.0%             4.1%                          60   \n",
      "9              39.4%             5.2%                          48   \n",
      "10             34.3%             9.3%                          82   \n",
      "11             36.8%             5.2%                          28   \n",
      "12             22.5%            12.5%                          59   \n",
      "13             55.9%            16.0%                         100   \n",
      "14             47.2%            13.8%                          39   \n",
      "15             21.2%             6.0%                          38   \n",
      "\n",
      "    Hit Woodwork  Penalty goals  Penalties not scored  ...  Clean Sheets  \\\n",
      "0              0              0                     0  ...             0   \n",
      "1              0              0                     0  ...             1   \n",
      "2              1              0                     0  ...             1   \n",
      "3              0              0                     0  ...             2   \n",
      "4              1              0                     0  ...             1   \n",
      "5              2              1                     0  ...             1   \n",
      "6              1              1                     1  ...             1   \n",
      "7              2              0                     0  ...             2   \n",
      "8              2              0                     0  ...             0   \n",
      "9              0              0                     0  ...             0   \n",
      "10             6              0                     0  ...             2   \n",
      "11             0              0                     0  ...             0   \n",
      "12             2              0                     0  ...             0   \n",
      "13             0              1                     0  ...             5   \n",
      "14             3              0                     0  ...             1   \n",
      "15             0              0                     0  ...             0   \n",
      "\n",
      "    Blocks  Goals conceded Saves made  Saves-to-shots ratio  Fouls Won  \\\n",
      "0       10               3         13                 81.3%         41   \n",
      "1       10               6          9                 60.1%         53   \n",
      "2       10               5         10                 66.7%         25   \n",
      "3       29               3         22                 88.1%         43   \n",
      "4        7               5          6                 54.6%         36   \n",
      "5       11               6         10                 62.6%         63   \n",
      "6       23               7         13                 65.1%         67   \n",
      "7       18               7         20                 74.1%        101   \n",
      "8        9               5         12                 70.6%         35   \n",
      "9        8               3          6                 66.7%         48   \n",
      "10      11               4         10                 71.5%         73   \n",
      "11      23               9         17                 65.4%         43   \n",
      "12       8               3         10                 77.0%         34   \n",
      "13       8               1         15                 93.8%        102   \n",
      "14      12               5          8                 61.6%         35   \n",
      "15       4               4         13                 76.5%         48   \n",
      "\n",
      "    Fouls Conceded  Offsides  Yellow Cards  Red Cards  \n",
      "0               62         2             9          0  \n",
      "1               73         8             7          0  \n",
      "2               38         8             4          0  \n",
      "3               45         6             5          0  \n",
      "4               51         5             6          0  \n",
      "5               49        12             4          0  \n",
      "6               48        12             9          1  \n",
      "7               89        16            16          0  \n",
      "8               30         3             5          0  \n",
      "9               56         3             7          1  \n",
      "10              90        10            12          0  \n",
      "11              51        11             6          1  \n",
      "12              43         4             6          0  \n",
      "13              83        19            11          0  \n",
      "14              51         7             7          0  \n",
      "15              31         4             5          0  \n",
      "\n",
      "[16 rows x 32 columns]\n"
     ]
    }
   ],
   "source": [
    "print(\"\\nAll columns except the last 3:\")\n",
    "print(all_columns_except_last_three)"
   ]
  },
  {
   "cell_type": "markdown",
   "id": "e88f173f-cf8c-435b-83ed-e24d250dd3c3",
   "metadata": {},
   "source": [
    "Step 14. Present only the Shooting Accuracy from the teams England, Italy, and Russia"
   ]
  },
  {
   "cell_type": "code",
   "execution_count": 23,
   "id": "9e3c5fbf-b293-4c76-a84a-9850ae52613a",
   "metadata": {},
   "outputs": [
    {
     "name": "stdout",
     "output_type": "stream",
     "text": [
      "\n",
      "Shooting Accuracy for selected teams (England, Italy, Russia):\n",
      "       Team Shooting Accuracy\n",
      "3   England             50.0%\n",
      "7     Italy             43.0%\n",
      "12   Russia             22.5%\n"
     ]
    }
   ],
   "source": [
    "print(\"\\nShooting Accuracy for selected teams (England, Italy, Russia):\")\n",
    "print(shooting_accuracy_selected_teams)"
   ]
  },
  {
   "cell_type": "markdown",
   "id": "41ba76e0-ea3c-4d9d-b85f-8b16f2282622",
   "metadata": {},
   "source": [
    "Question 3: Housing"
   ]
  },
  {
   "cell_type": "markdown",
   "id": "8b845422-7c49-4a37-9dc4-e9ef15aa7576",
   "metadata": {},
   "source": [
    "Step 1. Import the necessary libraries\n",
    "Step 2. Create 3 different Series, each of length 100, as follows:\n",
    "\n",
    "The first series with random numbers from 1 to 4\n",
    "The second series with random numbers from 1 to 3\n",
    "The third series with random numbers from 10,000 to 30,000\n",
    "Step 3. Create a DataFrame by joining the Series by column\n",
    "Step 4. Change the name of the columns to bedrs, bathrs, and price_sqr_meter\n",
    "Step 5. Create a one-column DataFrame with the values of the 3 Series and assign it to a variable called bigcolumn\n",
    "Step 6. Oops, it seems it is going only until index 99. Is it true?\n",
    "Step 7. Reindex the DataFrame so it goes from 0 to 299"
   ]
  },
  {
   "cell_type": "code",
   "execution_count": 24,
   "id": "dd5b4629-5713-4b44-84ea-3ab2b27497e6",
   "metadata": {},
   "outputs": [],
   "source": [
    "import pandas as pd\n",
    "import numpy as np\n",
    "\n",
    "# Step 2: Generate three distinct Series.\n",
    "random_numbers_series1 = pd.Series(np.random.randint(1, 5, size=100))\n",
    "random_numbers_series2 = pd.Series(np.random.randint(1, 4, size=100))\n",
    "random_numbers_series3 = pd.Series(np.random.randint(10000, 30001, size=100))\n",
    "\n",
    "# Step 3: Formulate a DataFrame by merging the Series.\n",
    "housing_data_frame = pd.concat([random_numbers_series1, random_numbers_series2, random_numbers_series3], axis=1)\n",
    "\n",
    "# Step 4: Modify the column names.\n",
    "housing_data_frame.columns = ['bedrs', 'bathrs', 'price_sqr_meter']\n",
    "\n",
    "# Step 5: Produce a DataFrame with a single column.\n",
    "bigcolumn = pd.concat([random_numbers_series1, random_numbers_series2, random_numbers_series3], axis=0)\n",
    "bigcolumn = bigcolumn.reset_index(drop=True)\n",
    "bigcolumn.columns = ['bigcolumn']\n",
    "\n",
    "# Step 6: Verify if the column extends up to index 99.\n",
    "does_go_until_99 = bigcolumn.index.max() == 99\n",
    "\n",
    "# Step 7: Rearrange the DataFrame index.\n",
    "reindexed_housing_data_frame = housing_data_frame.reindex(range(300))"
   ]
  },
  {
   "cell_type": "markdown",
   "id": "05736e59-5c92-4690-b961-7715ac9f4de1",
   "metadata": {},
   "source": [
    "Step 2. Create 3 different Series, each of length 100, as follows:\n",
    "\n",
    "The first series with random numbers from 1 to 4"
   ]
  },
  {
   "cell_type": "code",
   "execution_count": 25,
   "id": "3ed1ebfa-e324-495b-a576-7e73167f7402",
   "metadata": {},
   "outputs": [
    {
     "name": "stdout",
     "output_type": "stream",
     "text": [
      "Random Numbers Series 1:\n",
      "0     4\n",
      "1     2\n",
      "2     3\n",
      "3     2\n",
      "4     3\n",
      "     ..\n",
      "95    4\n",
      "96    2\n",
      "97    4\n",
      "98    1\n",
      "99    1\n",
      "Length: 100, dtype: int32\n"
     ]
    }
   ],
   "source": [
    "print(\"Random Numbers Series 1:\")\n",
    "print(random_numbers_series1)"
   ]
  },
  {
   "cell_type": "markdown",
   "id": "62043d1f-e915-4b2c-90a9-13ae84002886",
   "metadata": {},
   "source": [
    "The second series with random numbers from 1 to 3"
   ]
  },
  {
   "cell_type": "code",
   "execution_count": 27,
   "id": "223c1ec5-c799-40c5-a7fa-75efff8b7bb6",
   "metadata": {},
   "outputs": [
    {
     "name": "stdout",
     "output_type": "stream",
     "text": [
      "\n",
      "Random Numbers Series 2:\n",
      "0     1\n",
      "1     3\n",
      "2     1\n",
      "3     3\n",
      "4     3\n",
      "     ..\n",
      "95    2\n",
      "96    1\n",
      "97    1\n",
      "98    2\n",
      "99    3\n",
      "Length: 100, dtype: int32\n"
     ]
    }
   ],
   "source": [
    "print(\"\\nRandom Numbers Series 2:\")\n",
    "print(random_numbers_series2)"
   ]
  },
  {
   "cell_type": "markdown",
   "id": "344da249-e239-41ff-a96c-72ea250ae0e0",
   "metadata": {},
   "source": [
    "The third series with random numbers from 10,000 to 30,000\n",
    ")"
   ]
  },
  {
   "cell_type": "code",
   "execution_count": 29,
   "id": "c6b36fd8-aacb-418c-b8c3-6e09c0280e8a",
   "metadata": {},
   "outputs": [
    {
     "name": "stdout",
     "output_type": "stream",
     "text": [
      "\n",
      "Random Numbers Series 3:\n",
      "0     29438\n",
      "1     15346\n",
      "2     15832\n",
      "3     22096\n",
      "4     26632\n",
      "      ...  \n",
      "95    15248\n",
      "96    15244\n",
      "97    10618\n",
      "98    28007\n",
      "99    16572\n",
      "Length: 100, dtype: int32\n"
     ]
    }
   ],
   "source": [
    "print(\"\\nRandom Numbers Series 3:\")\n",
    "print(random_numbers_series3)"
   ]
  },
  {
   "cell_type": "markdown",
   "id": "e2c18939-d6ac-423a-bcf5-5589e4d97461",
   "metadata": {},
   "source": [
    "Step 3. Create a DataFrame by joining the Series by column\n",
    "\n",
    "Step 4. Change the name of the columns to bedrs, bathrs, and price_sqr_meter"
   ]
  },
  {
   "cell_type": "code",
   "execution_count": 30,
   "id": "36cff5fd-9190-4280-8de6-59fe3f46926b",
   "metadata": {},
   "outputs": [
    {
     "name": "stdout",
     "output_type": "stream",
     "text": [
      "Housing DataFrame:\n",
      "    bedrs  bathrs  price_sqr_meter\n",
      "0       4       1            29438\n",
      "1       2       3            15346\n",
      "2       3       1            15832\n",
      "3       2       3            22096\n",
      "4       3       3            26632\n",
      "..    ...     ...              ...\n",
      "95      4       2            15248\n",
      "96      2       1            15244\n",
      "97      4       1            10618\n",
      "98      1       2            28007\n",
      "99      1       3            16572\n",
      "\n",
      "[100 rows x 3 columns]\n"
     ]
    }
   ],
   "source": [
    "print(\"Housing DataFrame:\")\n",
    "print(housing_data_frame)"
   ]
  },
  {
   "cell_type": "markdown",
   "id": "33008526-e28b-43ae-bd51-581d03e63e9b",
   "metadata": {},
   "source": [
    "Step 5. Create a one-column DataFrame with the values of the 3 Series and assign it to a variable called bigcolumn"
   ]
  },
  {
   "cell_type": "code",
   "execution_count": 34,
   "id": "5c3d9461-fab1-4e8a-a620-6a1a2a1b8064",
   "metadata": {},
   "outputs": [
    {
     "name": "stdout",
     "output_type": "stream",
     "text": [
      "\n",
      "Big Column DataFrame:\n",
      "0          4\n",
      "1          2\n",
      "2          3\n",
      "3          2\n",
      "4          3\n",
      "       ...  \n",
      "295    15248\n",
      "296    15244\n",
      "297    10618\n",
      "298    28007\n",
      "299    16572\n",
      "Length: 300, dtype: int32\n"
     ]
    }
   ],
   "source": [
    "print(\"\\nBig Column DataFrame:\")\n",
    "print(bigcolumn)"
   ]
  },
  {
   "cell_type": "markdown",
   "id": "bdec56a6-a20b-428e-adb1-3874d91bbd24",
   "metadata": {},
   "source": [
    "Step 6. Oops, it seems it is going only until index 99. Is it true?"
   ]
  },
  {
   "cell_type": "code",
   "execution_count": 36,
   "id": "be8936fc-b81d-49ef-94f0-2f4c93d7b45a",
   "metadata": {},
   "outputs": [
    {
     "name": "stdout",
     "output_type": "stream",
     "text": [
      "\n",
      "Does the Big Column go until index 99? False\n"
     ]
    }
   ],
   "source": [
    "print(\"\\nDoes the Big Column go until index 99?\", does_go_until_99)"
   ]
  },
  {
   "cell_type": "markdown",
   "id": "600f1052-29fb-4d4d-b795-efbef24f9c49",
   "metadata": {},
   "source": [
    "Step 7. Reindex the DataFrame so it goes from 0 to 299"
   ]
  },
  {
   "cell_type": "code",
   "execution_count": 38,
   "id": "608899a8-c9b8-41a7-8f1a-b60007fd7f95",
   "metadata": {},
   "outputs": [
    {
     "name": "stdout",
     "output_type": "stream",
     "text": [
      "\n",
      "Reindexed Housing DataFrame with 300 rows:\n",
      "     bedrs  bathrs  price_sqr_meter\n",
      "0      4.0     1.0          29438.0\n",
      "1      2.0     3.0          15346.0\n",
      "2      3.0     1.0          15832.0\n",
      "3      2.0     3.0          22096.0\n",
      "4      3.0     3.0          26632.0\n",
      "..     ...     ...              ...\n",
      "295    NaN     NaN              NaN\n",
      "296    NaN     NaN              NaN\n",
      "297    NaN     NaN              NaN\n",
      "298    NaN     NaN              NaN\n",
      "299    NaN     NaN              NaN\n",
      "\n",
      "[300 rows x 3 columns]\n"
     ]
    }
   ],
   "source": [
    "print(\"\\nReindexed Housing DataFrame with 300 rows:\")\n",
    "print(reindexed_housing_data_frame)"
   ]
  },
  {
   "cell_type": "markdown",
   "id": "f6e7f90f-f47e-4dff-8251-2fa141a04131",
   "metadata": {},
   "source": [
    "Question 4: Wind Statistics"
   ]
  },
  {
   "cell_type": "markdown",
   "id": "d7b079ed-19f7-489f-a19d-ef873bd1efee",
   "metadata": {},
   "source": [
    "Step 1. Import the necessary libraries\n",
    "Step 2. Import the dataset from the attached file wind.txt\n",
    "Step 3. Assign it to a variable called data and replace the first 3 columns by a proper datetime index\n",
    "Step 4. Year 2061? Do we really have data from this year? Create a function to fix it and apply it\n",
    "Step 5. Set the right dates as the index. Pay attention to the data type, it should be datetime64[ns]\n",
    "Step 6. Compute how many values are missing for each location over the entire record. They should be ignored in all calculations below.\n",
    "Step 7. Compute how many non-missing values there are in total.\n",
    "Step 8. Calculate the mean windspeeds of the windspeeds over all the locations and all the times. A single number for the entire dataset.\n",
    "Step 9. Create a DataFrame called loc_stats and calculate the min, max, and mean windspeeds and standard deviations of the windspeeds at each location over all the days. A different set of numbers for each location.\n",
    "Step 10. Create a DataFrame called day_stats and calculate the min, max, and mean windspeed and standard deviations of the windspeeds across all the locations at each day. A different set of numbers for each day.\n",
    "Step 11. Find the average windspeed in January for each location. Treat January 1961 and January 1962 both as January.\n",
    "Step 12. Downsample the record to a yearly frequency for each location.\n",
    "Step 13. Downsample the record to a monthly frequency for each location.\n",
    "Step 14. Downsample the record to a weekly frequency for each location.\n",
    "Step 15. Calculate the min, max, and mean windspeeds and standard deviations of the windspeeds across all locations for each week (assume that the first week starts on January 2, 1961) for the first 52 weeks."
   ]
  },
  {
   "cell_type": "code",
   "execution_count": 85,
   "id": "fd332e3d-d36b-472b-a346-799d5ce96564",
   "metadata": {},
   "outputs": [
    {
     "name": "stdout",
     "output_type": "stream",
     "text": [
      "  Yr Mo Dy   RPT   VAL   ROS   KIL   SHA   BIR   DUB   CLA   MUL   CLO   BEL   MAL\n",
      "0  61  1  1 15.04 14.96 13.17  9.29   NaN  9.87 1...                              \n",
      "1  61  1  2 14.71   NaN 10.83  6.50 12.62  7.67 1...                              \n",
      "2  61  1  3 18.50 16.88 12.33 10.13 11.17  6.17 1...                              \n",
      "3  61  1  4 10.58  6.63 11.75  4.58  4.54  2.88  ...                              \n",
      "4  61  1  5 13.33 13.25 11.42  6.17 10.71  8.21 1...                              \n"
     ]
    }
   ],
   "source": [
    "import pandas as pd\n",
    "\n",
    "# Step 1: Import the necessary libraries\n",
    "# Step 2: Import the dataset\n",
    "data = pd.read_csv(r'C:\\Users\\ishag\\Downloads\\wind.csv')\n",
    "\n",
    "# Display the first few rows to understand the structure of the dataset\n",
    "print(data.head())\n"
   ]
  },
  {
   "cell_type": "markdown",
   "id": "bdf4c2c0-df8a-45b0-925a-9cf063c9a44f",
   "metadata": {},
   "source": [
    "Question 5"
   ]
  },
  {
   "cell_type": "markdown",
   "id": "d15b1983-9a91-4a80-bc37-316910a3218b",
   "metadata": {},
   "source": [
    "Step 1. Import the necessary libraries\n",
    "Step 2. Import the dataset from this address\n",
    "Step 3. Assign it to a variable called chipo\n",
    "Step 4. See the first 10 entries\n",
    "Step 5. What is the number of observations in the dataset?\n",
    "Step 6. What is the number of columns in the dataset?\n",
    "Step 7. Print the name of all the columns\n",
    "Step 8. How is the dataset indexed?\n",
    "Step 9. Which was the most-ordered item?\n",
    "Step 10. For the most-ordered item, how many items were ordered?\n",
    "Step 11. What was the most ordered item in the choice_description column?\n",
    "Step 12. How many items were ordered in total?\n",
    "Step 13.\n",
    "\n",
    "Turn the item price into a float\n",
    "Check the item price type\n",
    "Create a lambda function and change the type of the item price\n",
    "Check the item price type\n",
    "Step 14. How much was the revenue for the period in the dataset?\n",
    "Step 15. How many orders were made in the period?\n",
    "Step 16. What is the average revenue amount per order?\n",
    "Step 17. How many different items are sold?"
   ]
  },
  {
   "cell_type": "code",
   "execution_count": 54,
   "id": "4f64f9a4-2a74-47d9-86f0-cb81f7e2930b",
   "metadata": {},
   "outputs": [
    {
     "name": "stdout",
     "output_type": "stream",
     "text": [
      "   order_id  quantity                              item_name  \\\n",
      "0         1         1           Chips and Fresh Tomato Salsa   \n",
      "1         1         1                                   Izze   \n",
      "2         1         1                       Nantucket Nectar   \n",
      "3         1         1  Chips and Tomatillo-Green Chili Salsa   \n",
      "4         2         2                           Chicken Bowl   \n",
      "5         3         1                           Chicken Bowl   \n",
      "6         3         1                          Side of Chips   \n",
      "7         4         1                          Steak Burrito   \n",
      "8         4         1                       Steak Soft Tacos   \n",
      "9         5         1                          Steak Burrito   \n",
      "\n",
      "                                  choice_description item_price  \n",
      "0                                                NaN     $2.39   \n",
      "1                                       [Clementine]     $3.39   \n",
      "2                                            [Apple]     $3.39   \n",
      "3                                                NaN     $2.39   \n",
      "4  [Tomatillo-Red Chili Salsa (Hot), [Black Beans...    $16.98   \n",
      "5  [Fresh Tomato Salsa (Mild), [Rice, Cheese, Sou...    $10.98   \n",
      "6                                                NaN     $1.69   \n",
      "7  [Tomatillo Red Chili Salsa, [Fajita Vegetables...    $11.75   \n",
      "8  [Tomatillo Green Chili Salsa, [Pinto Beans, Ch...     $9.25   \n",
      "9  [Fresh Tomato Salsa, [Rice, Black Beans, Pinto...     $9.25   \n"
     ]
    }
   ],
   "source": [
    "#Steps 1, 2, 3, and 4\n",
    "import pandas as pd\n",
    "chipo = pd.read_csv(r'https://raw.githubusercontent.com/justmarkham/DAT8/master/data/chipotle.tsv',sep='\\t')\n",
    "print(chipo[0:10])"
   ]
  },
  {
   "cell_type": "code",
   "execution_count": 55,
   "id": "2fcddb74-da64-4d8e-b225-5049362ee3cb",
   "metadata": {},
   "outputs": [
    {
     "name": "stdout",
     "output_type": "stream",
     "text": [
      "4622\n"
     ]
    }
   ],
   "source": [
    "#step 5\n",
    "print(chipo.shape[0])"
   ]
  },
  {
   "cell_type": "code",
   "execution_count": 56,
   "id": "16b9b9fe-e231-430b-a5bb-3552d0bdad15",
   "metadata": {},
   "outputs": [
    {
     "name": "stdout",
     "output_type": "stream",
     "text": [
      "Number of Columns = 5\n"
     ]
    }
   ],
   "source": [
    "#Step 6\n",
    "print(\"Number of Columns =\",chipo.shape[1])"
   ]
  },
  {
   "cell_type": "code",
   "execution_count": 58,
   "id": "c5aa9f74-fb9e-484b-88db-4792a4ccd5e0",
   "metadata": {},
   "outputs": [
    {
     "data": {
      "text/plain": [
       "Index(['order_id', 'quantity', 'item_name', 'choice_description',\n",
       "       'item_price'],\n",
       "      dtype='object')"
      ]
     },
     "execution_count": 58,
     "metadata": {},
     "output_type": "execute_result"
    }
   ],
   "source": [
    "#step 7\n",
    "chipo.columns"
   ]
  },
  {
   "cell_type": "code",
   "execution_count": 59,
   "id": "9d61248b-bfd4-4bc7-949c-75485a64fa8b",
   "metadata": {},
   "outputs": [
    {
     "data": {
      "text/plain": [
       "RangeIndex(start=0, stop=4622, step=1)"
      ]
     },
     "execution_count": 59,
     "metadata": {},
     "output_type": "execute_result"
    }
   ],
   "source": [
    "#step 8\n",
    "chipo.index"
   ]
  },
  {
   "cell_type": "code",
   "execution_count": 60,
   "id": "abb93676-ac71-44ca-bb2d-98d9319877a6",
   "metadata": {},
   "outputs": [
    {
     "data": {
      "text/plain": [
       "item_name\n",
       "Chips and Fresh Tomato Salsa    15\n",
       "Bottled Water                   10\n",
       "Side of Chips                    8\n",
       "Chips and Guacamole              4\n",
       "Chicken Burrito                  4\n",
       "Name: quantity, dtype: int64"
      ]
     },
     "execution_count": 60,
     "metadata": {},
     "output_type": "execute_result"
    }
   ],
   "source": [
    "#Steps 9 and 10\n",
    "most_ordered_item = chipo.groupby('item_name')['quantity'].max().sort_values(ascending = False)\n",
    "most_ordered_item[:5]"
   ]
  },
  {
   "cell_type": "code",
   "execution_count": 61,
   "id": "6a7897c1-f838-482f-b166-830fac140624",
   "metadata": {},
   "outputs": [
    {
     "data": {
      "text/html": [
       "<div>\n",
       "<style scoped>\n",
       "    .dataframe tbody tr th:only-of-type {\n",
       "        vertical-align: middle;\n",
       "    }\n",
       "\n",
       "    .dataframe tbody tr th {\n",
       "        vertical-align: top;\n",
       "    }\n",
       "\n",
       "    .dataframe thead th {\n",
       "        text-align: right;\n",
       "    }\n",
       "</style>\n",
       "<table border=\"1\" class=\"dataframe\">\n",
       "  <thead>\n",
       "    <tr style=\"text-align: right;\">\n",
       "      <th></th>\n",
       "      <th>order_id</th>\n",
       "      <th>quantity</th>\n",
       "      <th>item_name</th>\n",
       "      <th>item_price</th>\n",
       "    </tr>\n",
       "    <tr>\n",
       "      <th>choice_description</th>\n",
       "      <th></th>\n",
       "      <th></th>\n",
       "      <th></th>\n",
       "      <th></th>\n",
       "    </tr>\n",
       "  </thead>\n",
       "  <tbody>\n",
       "    <tr>\n",
       "      <th>[Adobo-Marinated and Grilled Chicken, Pinto Beans, [Sour Cream, Salsa, Cheese, Cilantro-Lime Rice, Guacamole]]</th>\n",
       "      <td>214</td>\n",
       "      <td>1</td>\n",
       "      <td>Burrito</td>\n",
       "      <td>$7.40</td>\n",
       "    </tr>\n",
       "    <tr>\n",
       "      <th>[Adobo-Marinated and Grilled Chicken, [Sour Cream, Cheese, Cilantro-Lime Rice]]</th>\n",
       "      <td>279</td>\n",
       "      <td>1</td>\n",
       "      <td>Burrito</td>\n",
       "      <td>$7.40</td>\n",
       "    </tr>\n",
       "    <tr>\n",
       "      <th>[Adobo-Marinated and Grilled Chicken]</th>\n",
       "      <td>217</td>\n",
       "      <td>1</td>\n",
       "      <td>Crispy Tacos</td>\n",
       "      <td>$7.40</td>\n",
       "    </tr>\n",
       "    <tr>\n",
       "      <th>[Adobo-Marinated and Grilled Steak, [Sour Cream, Salsa, Cheese, Cilantro-Lime Rice, Guacamole]]</th>\n",
       "      <td>279</td>\n",
       "      <td>1</td>\n",
       "      <td>Bowl</td>\n",
       "      <td>$7.40</td>\n",
       "    </tr>\n",
       "    <tr>\n",
       "      <th>[Adobo-Marinated and Grilled Steak]</th>\n",
       "      <td>217</td>\n",
       "      <td>1</td>\n",
       "      <td>Crispy Tacos</td>\n",
       "      <td>$7.40</td>\n",
       "    </tr>\n",
       "    <tr>\n",
       "      <th>...</th>\n",
       "      <td>...</td>\n",
       "      <td>...</td>\n",
       "      <td>...</td>\n",
       "      <td>...</td>\n",
       "    </tr>\n",
       "    <tr>\n",
       "      <th>[[Tomatillo-Red Chili Salsa (Hot), Tomatillo-Green Chili Salsa (Medium)], [Rice, Black Beans, Cheese, Lettuce]]</th>\n",
       "      <td>1309</td>\n",
       "      <td>1</td>\n",
       "      <td>Chicken Burrito</td>\n",
       "      <td>$8.49</td>\n",
       "    </tr>\n",
       "    <tr>\n",
       "      <th>[[Tomatillo-Red Chili Salsa (Hot), Tomatillo-Green Chili Salsa (Medium)], [Rice, Black Beans, Lettuce]]</th>\n",
       "      <td>1215</td>\n",
       "      <td>1</td>\n",
       "      <td>Chicken Bowl</td>\n",
       "      <td>$8.49</td>\n",
       "    </tr>\n",
       "    <tr>\n",
       "      <th>[[Tomatillo-Red Chili Salsa (Hot), Tomatillo-Green Chili Salsa (Medium)], [Rice, Pinto Beans, Cheese, Lettuce]]</th>\n",
       "      <td>51</td>\n",
       "      <td>1</td>\n",
       "      <td>Chicken Burrito</td>\n",
       "      <td>$8.49</td>\n",
       "    </tr>\n",
       "    <tr>\n",
       "      <th>[[Tomatillo-Red Chili Salsa (Hot), Tomatillo-Green Chili Salsa (Medium)], [Rice, Pinto Beans, Fajita Veggies, Cheese, Sour Cream, Lettuce]]</th>\n",
       "      <td>51</td>\n",
       "      <td>1</td>\n",
       "      <td>Barbacoa Bowl</td>\n",
       "      <td>$8.99</td>\n",
       "    </tr>\n",
       "    <tr>\n",
       "      <th>[[Tomatillo-Red Chili Salsa (Hot), Tomatillo-Green Chili Salsa (Medium)], [Rice, Pinto Beans, Fajita Veggies, Lettuce]]</th>\n",
       "      <td>1299</td>\n",
       "      <td>1</td>\n",
       "      <td>Barbacoa Bowl</td>\n",
       "      <td>$8.99</td>\n",
       "    </tr>\n",
       "  </tbody>\n",
       "</table>\n",
       "<p>1043 rows × 4 columns</p>\n",
       "</div>"
      ],
      "text/plain": [
       "                                                    order_id  quantity  \\\n",
       "choice_description                                                       \n",
       "[Adobo-Marinated and Grilled Chicken, Pinto Bea...       214         1   \n",
       "[Adobo-Marinated and Grilled Chicken, [Sour Cre...       279         1   \n",
       "[Adobo-Marinated and Grilled Chicken]                    217         1   \n",
       "[Adobo-Marinated and Grilled Steak, [Sour Cream...       279         1   \n",
       "[Adobo-Marinated and Grilled Steak]                      217         1   \n",
       "...                                                      ...       ...   \n",
       "[[Tomatillo-Red Chili Salsa (Hot), Tomatillo-Gr...      1309         1   \n",
       "[[Tomatillo-Red Chili Salsa (Hot), Tomatillo-Gr...      1215         1   \n",
       "[[Tomatillo-Red Chili Salsa (Hot), Tomatillo-Gr...        51         1   \n",
       "[[Tomatillo-Red Chili Salsa (Hot), Tomatillo-Gr...        51         1   \n",
       "[[Tomatillo-Red Chili Salsa (Hot), Tomatillo-Gr...      1299         1   \n",
       "\n",
       "                                                          item_name item_price  \n",
       "choice_description                                                              \n",
       "[Adobo-Marinated and Grilled Chicken, Pinto Bea...          Burrito     $7.40   \n",
       "[Adobo-Marinated and Grilled Chicken, [Sour Cre...          Burrito     $7.40   \n",
       "[Adobo-Marinated and Grilled Chicken]                  Crispy Tacos     $7.40   \n",
       "[Adobo-Marinated and Grilled Steak, [Sour Cream...             Bowl     $7.40   \n",
       "[Adobo-Marinated and Grilled Steak]                    Crispy Tacos     $7.40   \n",
       "...                                                             ...        ...  \n",
       "[[Tomatillo-Red Chili Salsa (Hot), Tomatillo-Gr...  Chicken Burrito     $8.49   \n",
       "[[Tomatillo-Red Chili Salsa (Hot), Tomatillo-Gr...     Chicken Bowl     $8.49   \n",
       "[[Tomatillo-Red Chili Salsa (Hot), Tomatillo-Gr...  Chicken Burrito     $8.49   \n",
       "[[Tomatillo-Red Chili Salsa (Hot), Tomatillo-Gr...    Barbacoa Bowl     $8.99   \n",
       "[[Tomatillo-Red Chili Salsa (Hot), Tomatillo-Gr...    Barbacoa Bowl     $8.99   \n",
       "\n",
       "[1043 rows x 4 columns]"
      ]
     },
     "execution_count": 61,
     "metadata": {},
     "output_type": "execute_result"
    }
   ],
   "source": [
    "#Step 11\n",
    "chipo.groupby('choice_description').max()"
   ]
  },
  {
   "cell_type": "code",
   "execution_count": 62,
   "id": "91aac741-acb9-49f9-97e8-ead581eee077",
   "metadata": {},
   "outputs": [
    {
     "name": "stdout",
     "output_type": "stream",
     "text": [
      "Total Number of Items =  4972\n"
     ]
    }
   ],
   "source": [
    "#Step 12\n",
    "print(\"Total Number of Items = \",chipo['quantity'].sum())"
   ]
  },
  {
   "cell_type": "code",
   "execution_count": 63,
   "id": "dd2e3c94-969b-44d2-a199-53d81886be9d",
   "metadata": {},
   "outputs": [
    {
     "data": {
      "text/plain": [
       "dtype('O')"
      ]
     },
     "execution_count": 63,
     "metadata": {},
     "output_type": "execute_result"
    }
   ],
   "source": [
    "#step 13\n",
    "\n",
    "chipo.item_price.dtype"
   ]
  },
  {
   "cell_type": "code",
   "execution_count": 64,
   "id": "4ef54d4e-45f9-4306-8292-39cc8d84c51b",
   "metadata": {},
   "outputs": [
    {
     "name": "stdout",
     "output_type": "stream",
     "text": [
      "$2.39 $3.39 $3.39 $2.39 $16.98 $10.98 $1.69 $11.75 $9.25 $9.25 $4.45 $8.75 $8.75 $11.25 $4.45 $2.39 $8.49 $8.49 $2.18 $8.75 $4.45 $8.99 $3.39 $10.98 $3.39 $2.39 $8.49 $8.99 $1.09 $8.49 $2.39 $8.99 $1.69 $8.99 $1.09 $8.75 $8.75 $4.45 $2.95 $11.75 $2.15 $4.45 $11.25 $11.75 $8.75 $10.98 $8.99 $3.39 $8.99 $3.99 $8.99 $2.18 $10.98 $1.09 $8.99 $2.39 $9.25 $11.25 $11.75 $2.15 $4.45 $9.25 $11.25 $8.75 $8.99 $8.99 $3.39 $8.99 $10.98 $8.99 $1.69 $8.99 $3.99 $8.75 $4.45 $8.75 $8.75 $2.15 $8.75 $11.25 $2.15 $9.25 $8.75 $8.75 $9.25 $8.49 $8.99 $1.09 $9.25 $2.95 $11.75 $11.75 $9.25 $11.75 $4.45 $9.25 $4.45 $11.75 $8.75 $8.75 $4.45 $8.99 $8.99 $3.99 $8.49 $3.39 $8.99 $1.09 $9.25 $4.45 $8.75 $2.95 $4.45 $2.39 $8.49 $8.99 $8.49 $1.09 $8.99 $3.99 $8.75 $9.25 $4.45 $11.25 $4.45 $8.99 $1.09 $9.25 $2.95 $4.45 $11.75 $4.45 $8.49 $2.39 $10.98 $22.50 $11.75 $4.45 $11.25 $4.45 $11.25 $4.45 $11.25 $11.25 $11.75 $9.25 $4.45 $11.48 $17.98 $1.69 $17.50 $4.45 $8.49 $2.39 $17.50 $4.45 $4.45 $11.25 $11.75 $10.98 $8.49 $10.98 $2.18 $11.48 $8.49 $2.39 $4.45 $11.25 $11.75 $8.75 $8.49 $2.18 $8.49 $3.39 $8.49 $8.99 $10.98 $11.48 $8.49 $1.09 $1.09 $9.25 $8.75 $2.95 $9.25 $4.45 $11.25 $11.48 $8.49 $8.49 $8.99 $2.39 $11.25 $8.75 $2.95 $1.09 $8.99 $8.49 $2.39 $10.98 $1.09 $3.99 $11.25 $8.75 $8.49 $3.39 $8.75 $9.25 $2.15 $11.25 $11.25 $11.25 $4.45 $22.50 $4.45 $11.75 $8.75 $17.50 $8.75 $9.25 $8.75 $2.15 $9.25 $4.30 $8.75 $11.25 $2.15 $8.99 $1.09 $8.99 $3.99 $8.75 $2.95 $2.95 $11.75 $5.90 $9.25 $9.25 $11.75 $9.25 $2.95 $17.50 $8.75 $9.25 $10.98 $8.99 $1.09 $1.09 $1.09 $8.99 $10.98 $1.09 $8.75 $8.75 $9.25 $9.25 $8.75 $8.75 $8.99 $8.99 $8.99 $1.09 $11.75 $1.25 $8.99 $2.39 $9.25 $2.95 $8.99 $3.99 $8.49 $2.39 $8.49 $8.49 $8.49 $1.69 $8.49 $3.99 $8.99 $1.69 $1.09 $23.78 $17.50 $2.15 $8.75 $9.25 $9.25 $8.75 $4.45 $8.75 $11.25 $11.25 $1.25 $9.25 $4.45 $11.25 $11.75 $11.75 $6.49 $8.99 $2.39 $8.49 $2.39 $11.25 $8.75 $2.15 $8.99 $1.69 $8.75 $11.25 $2.15 $4.45 $8.75 $8.49 $8.99 $17.50 $8.49 $1.09 $1.09 $8.75 $1.25 $2.15 $11.08 $8.49 $8.49 $8.99 $2.39 $8.75 $2.15 $1.50 $11.25 $2.15 $8.49 $8.49 $11.75 $9.25 $11.75 $1.25 $11.25 $8.75 $4.45 $6.49 $9.25 $2.95 $11.25 $4.45 $1.25 $1.25 $8.49 $2.39 $2.18 $8.49 $2.18 $22.16 $17.50 $8.75 $2.95 $6.49 $8.99 $3.39 $3.39 $8.99 $8.49 $11.25 $2.15 $11.25 $2.95 $11.25 $1.25 $8.99 $1.09 $8.75 $8.75 $9.25 $2.95 $11.75 $1.50 $8.99 $1.09 $11.25 $1.25 $1.25 $11.25 $11.75 $2.15 $8.99 $1.69 $11.75 $6.49 $8.75 $9.25 $11.25 $4.45 $1.25 $11.25 $4.45 $8.49 $8.99 $8.49 $8.99 $11.25 $1.25 $11.75 $1.25 $11.75 $9.25 $4.45 $11.25 $2.15 $32.94 $1.25 $11.25 $11.48 $1.69 $1.09 $17.50 $4.45 $6.49 $9.25 $8.75 $9.25 $9.25 $8.75 $8.75 $2.15 $2.95 $17.50 $10.98 $11.48 $11.48 $3.39 $8.99 $1.69 $8.99 $1.09 $10.98 $3.39 $8.99 $1.09 $9.25 $8.75 $11.25 $4.45 $2.95 $9.25 $22.20 $8.49 $8.99 $8.75 $8.75 $11.75 $8.75 $11.25 $9.25 $11.25 $11.25 $8.75 $11.25 $2.95 $1.25 $8.49 $1.69 $11.75 $11.25 $8.75 $8.75 $4.45 $8.49 $3.99 $8.49 $3.99 $11.48 $1.69 $1.09 $11.25 $1.50 $10.58 $1.69 $9.25 $11.25 $8.75 $9.25 $11.25 $11.25 $8.75 $11.75 $8.75 $8.75 $8.75 $2.15 $11.25 $11.75 $2.50 $4.45 $9.25 $4.45 $11.25 $8.49 $3.99 $9.25 $9.25 $11.25 $9.25 $11.75 $11.25 $1.25 $23.50 $1.25 $8.99 $8.49 $7.40 $7.40 $8.75 $1.25 $4.45 $8.75 $2.15 $8.75 $4.45 $7.40 $7.40 $7.40 $8.99 $3.99 $8.99 $1.69 $8.75 $8.75 $8.75 $8.75 $11.25 $11.25 $2.95 $8.75 $18.50 $8.49 $3.99 $2.95 $9.25 $9.25 $3.00 $1.25 $8.75 $9.25 $4.45 $8.75 $11.25 $4.45 $10.98 $22.16 $4.45 $8.75 $9.25 $6.49 $9.25 $11.25 $8.75 $9.25 $2.15 $9.25 $4.45 $9.25 $2.95 $9.25 $8.75 $9.25 $1.25 $1.25 $8.75 $8.75 $9.25 $4.45 $11.75 $11.75 $11.75 $9.25 $9.25 $16.98 $2.39 $3.39 $3.39 $9.25 $11.75 $11.25 $2.15 $8.75 $9.25 $4.45 $10.98 $11.25 $9.25 $22.50 $9.25 $2.95 $1.50 $11.48 $8.49 $1.69 $8.49 $8.49 $8.49 $6.78 $11.75 $4.45 $8.75 $4.45 $11.89 $9.39 $8.75 $2.95 $1.25 $9.25 $8.75 $23.78 $8.75 $9.25 $2.15 $2.15 $1.25 $8.49 $3.99 $10.98 $1.09 $8.75 $4.45 $8.75 $11.75 $2.95 $4.45 $9.25 $8.75 $8.49 $3.99 $22.50 $11.25 $1.25 $8.75 $8.75 $18.50 $6.49 $8.75 $8.75 $4.45 $8.49 $3.99 $8.99 $1.09 $8.49 $2.39 $11.48 $1.69 $2.50 $9.25 $1.50 $17.50 $2.95 $8.75 $4.45 $11.75 $8.75 $8.49 $1.69 $8.49 $3.99 $8.99 $8.99 $3.99 $8.99 $11.25 $4.45 $1.25 $3.99 $10.98 $7.40 $3.00 $7.40 $4.00 $8.49 $3.99 $9.25 $4.45 $11.25 $1.25 $11.75 $1.25 $11.25 $2.15 $11.25 $4.45 $3.75 $11.75 $8.99 $2.39 $8.75 $4.45 $1.25 $8.99 $8.49 $2.18 $8.49 $2.18 $1.09 $8.75 $2.95 $1.25 $1.50 $11.25 $9.25 $2.95 $1.25 $8.49 $3.99 $11.48 $3.99 $8.49 $11.25 $1.25 $8.99 $1.69 $11.25 $1.25 $6.49 $8.75 $9.25 $8.75 $2.95 $8.75 $11.75 $8.69 $8.69 $2.29 $3.99 $8.49 $8.75 $8.75 $1.25 $11.75 $11.25 $11.25 $11.25 $1.25 $9.25 $11.75 $6.49 $3.99 $8.49 $11.25 $2.15 $11.25 $11.89 $8.99 $1.69 $8.99 $8.99 $3.99 $8.99 $9.25 $9.25 $2.15 $7.40 $7.40 $8.75 $8.75 $9.25 $4.45 $11.25 $1.25 $11.75 $11.25 $1.25 $3.99 $8.49 $8.49 $8.49 $8.99 $8.75 $2.15 $1.25 $8.49 $1.09 $1.09 $8.75 $2.95 $1.25 $9.25 $1.25 $2.15 $11.25 $1.25 $4.45 $8.75 $2.50 $8.90 $8.75 $8.75 $8.75 $11.25 $11.25 $10.98 $3.99 $10.98 $3.99 $1.69 $8.99 $9.25 $8.75 $8.99 $1.09 $9.25 $2.95 $8.75 $9.25 $3.99 $8.49 $8.75 $8.75 $22.50 $10.98 $3.27 $3.99 $8.99 $1.09 $11.08 $8.75 $4.45 $11.08 $3.99 $8.49 $4.30 $9.25 $8.75 $11.25 $11.25 $9.25 $8.49 $8.99 $8.49 $8.75 $2.95 $4.45 $9.25 $2.95 $9.25 $8.75 $11.25 $4.45 $16.98 $8.49 $2.39 $11.25 $3.75 $9.25 $4.45 $9.25 $9.25 $4.45 $8.75 $9.25 $8.75 $9.25 $9.25 $9.25 $11.48 $8.99 $22.50 $11.75 $11.25 $1.25 $8.75 $2.15 $1.25 $11.25 $8.75 $1.25 $11.25 $1.50 $11.25 $11.25 $9.25 $6.49 $8.90 $8.75 $4.45 $11.25 $1.25 $17.50 $9.25 $8.75 $11.75 $3.00 $8.49 $8.49 $10.98 $8.99 $3.99 $8.75 $4.45 $8.99 $1.69 $11.75 $8.75 $11.25 $4.45 $11.75 $1.25 $11.75 $2.95 $8.99 $8.99 $2.18 $17.98 $8.99 $8.49 $1.69 $11.75 $11.25 $2.95 $3.75 $9.25 $11.75 $8.75 $2.15 $1.50 $8.49 $8.49 $3.39 $8.69 $3.89 $8.75 $4.45 $8.75 $11.25 $2.15 $8.75 $8.49 $1.69 $8.49 $8.49 $1.25 $8.75 $11.75 $11.75 $8.99 $1.09 $8.75 $4.45 $8.75 $2.95 $8.75 $2.15 $3.99 $8.49 $8.99 $3.99 $8.49 $1.69 $1.09 $8.99 $1.09 $9.25 $8.75 $8.99 $2.39 $1.25 $1.25 $11.25 $11.25 $9.25 $9.25 $11.25 $1.50 $3.99 $8.49 $11.25 $9.25 $11.25 $17.50 $8.75 $8.90 $8.75 $8.75 $8.99 $2.39 $11.25 $9.25 $2.15 $11.25 $1.25 $11.75 $1.25 $11.25 $11.75 $1.25 $11.25 $11.25 $8.49 $10.98 $8.75 $1.25 $8.75 $8.49 $8.49 $1.50 $1.50 $8.75 $4.45 $11.25 $1.25 $11.75 $8.49 $2.39 $9.25 $4.45 $9.25 $8.75 $8.99 $1.69 $17.50 $2.39 $8.99 $8.99 $11.25 $4.45 $8.75 $4.45 $9.25 $6.49 $10.98 $8.49 $8.49 $1.09 $1.69 $9.25 $4.45 $8.75 $1.25 $2.95 $3.99 $8.49 $11.75 $11.75 $2.15 $11.48 $8.75 $2.15 $1.25 $11.25 $2.15 $1.25 $8.75 $8.75 $6.49 $1.69 $8.99 $8.75 $11.75 $10.98 $1.09 $8.49 $3.39 $8.75 $2.15 $1.25 $11.48 $10.98 $10.98 $8.49 $2.95 $9.25 $9.25 $11.75 $4.45 $11.48 $11.25 $8.75 $4.45 $1.69 $8.99 $8.75 $4.45 $1.50 $11.75 $2.15 $8.99 $2.39 $8.75 $2.95 $1.25 $8.75 $2.15 $1.25 $2.18 $2.18 $11.48 $8.75 $2.95 $11.75 $11.75 $1.25 $10.58 $8.99 $2.39 $11.75 $4.45 $11.25 $11.25 $17.50 $8.75 $8.75 $8.75 $22.50 $9.25 $8.75 $4.45 $11.75 $1.25 $11.25 $11.25 $2.95 $8.99 $1.69 $11.25 $4.45 $8.75 $6.49 $8.75 $4.45 $9.25 $4.45 $11.75 $11.75 $4.45 $11.89 $11.75 $11.25 $2.95 $1.50 $4.45 $8.75 $8.99 $1.09 $8.99 $1.09 $3.99 $11.48 $8.49 $9.25 $4.45 $11.48 $9.25 $2.95 $9.25 $8.49 $8.99 $8.99 $8.49 $8.75 $2.95 $4.45 $11.89 $10.58 $8.19 $1.69 $8.75 $2.15 $1.25 $17.50 $6.49 $9.25 $2.15 $8.75 $4.45 $8.75 $1.25 $11.48 $11.48 $8.99 $2.18 $8.49 $8.99 $2.39 $2.39 $2.18 $8.75 $4.45 $11.25 $9.25 $9.25 $11.25 $11.25 $4.45 $2.95 $11.75 $8.49 $8.49 $8.99 $1.69 $9.25 $11.25 $11.75 $9.25 $8.75 $11.75 $8.75 $8.75 $11.25 $11.25 $10.98 $11.25 $4.45 $10.98 $8.49 $8.99 $3.39 $3.99 $8.99 $1.09 $1.09 $2.39 $17.50 $4.45 $11.25 $11.25 $4.45 $9.25 $4.45 $8.75 $2.15 $1.25 $11.89 $2.95 $11.75 $1.25 $11.25 $4.45 $11.48 $11.48 $2.95 $9.25 $8.75 $9.25 $2.95 $11.25 $1.25 $11.75 $1.25 $8.99 $2.39 $1.25 $11.25 $1.25 $11.25 $8.49 $3.99 $35.00 $27.75 $8.75 $11.80 $8.90 $5.90 $6.49 $10.98 $17.98 $2.39 $9.25 $8.75 $2.15 $8.75 $4.45 $8.49 $1.69 $8.19 $8.69 $10.98 $3.99 $11.48 $11.48 $4.45 $8.75 $6.49 $8.75 $8.75 $9.25 $1.25 $4.45 $8.49 $1.69 $9.25 $4.45 $8.99 $1.09 $11.25 $2.95 $11.08 $11.08 $3.89 $10.98 $11.25 $8.75 $11.25 $9.25 $4.30 $8.75 $8.49 $3.99 $1.69 $8.99 $8.49 $1.69 $11.75 $11.25 $11.89 $9.25 $2.95 $9.25 $2.95 $8.75 $4.45 $4.45 $8.75 $10.98 $11.48 $8.49 $9.25 $4.45 $11.75 $11.89 $8.99 $8.49 $8.75 $9.25 $8.75 $8.75 $11.75 $11.75 $4.45 $11.25 $11.75 $2.50 $8.99 $1.69 $11.75 $2.15 $1.25 $9.25 $8.75 $8.90 $9.25 $2.95 $8.75 $11.25 $8.90 $11.25 $11.75 $11.48 $1.69 $3.39 $9.25 $2.95 $8.99 $1.69 $8.49 $10.98 $11.25 $2.95 $8.99 $1.69 $8.75 $2.15 $1.25 $8.75 $2.95 $9.25 $2.50 $11.25 $1.25 $11.75 $2.50 $11.25 $1.50 $8.75 $1.25 $2.95 $11.48 $11.48 $8.75 $8.75 $2.15 $11.75 $1.25 $9.25 $9.25 $6.49 $11.75 $8.49 $8.49 $1.09 $10.98 $8.75 $1.25 $2.15 $11.25 $1.50 $11.25 $11.25 $8.49 $8.49 $8.75 $1.50 $1.25 $1.50 $8.75 $2.50 $2.15 $7.40 $7.40 $4.00 $9.25 $9.39 $9.25 $9.25 $9.39 $11.25 $8.90 $11.25 $6.00 $11.25 $11.25 $11.25 $22.50 $11.48 $1.09 $8.49 $8.49 $17.50 $11.25 $1.50 $9.25 $8.75 $3.99 $8.49 $8.75 $8.75 $8.75 $8.75 $8.75 $11.75 $1.50 $11.25 $11.25 $2.95 $8.99 $10.98 $9.25 $8.75 $4.45 $8.49 $1.09 $2.39 $8.75 $8.75 $11.48 $8.99 $8.49 $8.49 $2.39 $10.98 $8.49 $3.99 $11.75 $4.45 $8.75 $2.15 $1.25 $10.98 $8.99 $11.25 $1.50 $8.75 $2.15 $1.25 $8.75 $9.25 $8.75 $11.25 $1.50 $8.75 $1.25 $4.45 $10.98 $8.75 $2.95 $1.25 $8.75 $2.95 $1.25 $8.49 $8.49 $2.39 $11.25 $1.25 $8.75 $8.75 $9.25 $8.75 $11.89 $1.25 $8.75 $2.15 $1.25 $8.99 $1.09 $8.75 $4.45 $26.25 $8.75 $4.45 $11.75 $2.95 $8.75 $8.75 $11.75 $8.75 $11.25 $11.25 $11.25 $4.45 $1.25 $8.49 $8.49 $8.49 $8.99 $8.99 $2.39 $2.39 $3.99 $8.75 $4.45 $2.15 $9.25 $1.25 $11.25 $11.75 $8.75 $4.45 $11.25 $2.15 $8.75 $4.45 $8.75 $8.75 $1.25 $11.25 $2.15 $8.75 $5.90 $11.75 $1.25 $9.25 $3.75 $8.75 $1.25 $4.45 $11.75 $4.45 $8.75 $23.50 $8.75 $2.95 $8.75 $8.75 $11.89 $4.45 $2.95 $1.25 $8.75 $4.45 $2.95 $1.25 $8.75 $2.15 $1.25 $11.75 $2.95 $8.99 $3.39 $9.25 $9.25 $17.50 $2.95 $11.89 $1.50 $11.25 $2.95 $9.25 $11.25 $11.25 $2.95 $8.75 $9.25 $4.30 $8.75 $8.75 $11.25 $8.75 $4.30 $8.75 $1.25 $2.15 $8.49 $8.49 $3.39 $3.39 $10.98 $10.98 $2.39 $11.25 $11.75 $11.75 $1.25 $5.90 $8.75 $11.25 $9.25 $4.45 $1.50 $3.39 $8.99 $2.39 $11.25 $2.15 $11.25 $11.75 $11.75 $4.45 $11.75 $4.45 $9.25 $8.75 $8.49 $8.99 $8.49 $8.99 $11.75 $8.75 $8.49 $3.99 $3.89 $11.08 $8.49 $8.99 $8.49 $8.49 $8.49 $11.25 $2.15 $17.50 $8.75 $2.95 $8.49 $8.49 $10.98 $1.09 $11.25 $2.15 $2.95 $1.25 $8.75 $9.25 $9.25 $9.25 $2.95 $8.75 $2.15 $1.25 $8.99 $3.99 $11.75 $2.15 $8.99 $3.39 $9.25 $8.75 $11.25 $11.25 $4.45 $8.75 $2.15 $1.25 $11.75 $4.45 $9.25 $2.95 $8.49 $8.49 $11.25 $8.75 $4.45 $11.25 $11.25 $11.25 $11.25 $4.45 $8.49 $1.69 $8.49 $3.39 $8.75 $11.25 $9.25 $8.75 $11.25 $11.25 $11.75 $11.25 $11.75 $11.25 $11.75 $21.96 $10.98 $1.69 $11.48 $8.99 $8.49 $1.69 $9.25 $2.15 $1.50 $11.25 $1.50 $8.75 $8.75 $2.95 $8.49 $1.69 $8.75 $2.95 $1.25 $11.25 $2.15 $11.08 $8.49 $8.49 $8.49 $11.75 $1.25 $11.75 $8.75 $8.75 $8.75 $4.45 $11.25 $1.50 $23.50 $11.75 $6.49 $8.75 $4.45 $6.49 $8.75 $2.50 $2.15 $8.49 $2.39 $8.75 $11.75 $4.45 $8.99 $10.98 $9.25 $2.95 $9.25 $9.25 $11.75 $8.75 $8.75 $8.75 $10.98 $11.25 $9.25 $8.75 $8.75 $2.15 $11.25 $2.15 $4.45 $11.75 $8.49 $2.39 $9.25 $1.25 $1.25 $1.25 $1.25 $8.75 $2.15 $8.49 $1.69 $11.25 $1.50 $8.75 $8.75 $8.49 $3.99 $8.99 $1.09 $11.25 $1.25 $8.49 $2.39 $8.49 $8.75 $9.25 $11.25 $4.45 $11.25 $11.89 $8.99 $8.49 $8.75 $4.45 $8.75 $11.75 $11.75 $8.90 $9.39 $2.95 $8.49 $3.99 $8.75 $2.15 $1.25 $21.96 $8.49 $1.69 $8.75 $4.45 $8.49 $8.99 $8.49 $3.99 $8.75 $8.75 $2.95 $8.75 $17.50 $9.25 $2.95 $8.75 $6.49 $4.30 $8.75 $8.75 $2.15 $1.50 $8.49 $8.49 $2.39 $9.25 $4.45 $6.49 $11.75 $4.45 $10.98 $1.69 $9.39 $9.25 $9.25 $2.95 $8.75 $2.15 $1.25 $11.25 $9.25 $8.75 $11.25 $8.75 $11.25 $2.50 $2.50 $6.00 $8.90 $5.90 $11.25 $11.25 $8.49 $10.98 $8.75 $2.15 $1.50 $9.25 $1.25 $1.50 $2.15 $1.25 $8.75 $2.95 $8.49 $3.99 $11.25 $4.30 $11.75 $2.15 $18.50 $8.49 $2.39 $8.75 $4.45 $11.75 $8.99 $3.99 $9.25 $9.25 $1.50 $8.75 $2.95 $6.49 $11.75 $8.49 $8.99 $8.75 $4.45 $6.49 $22.50 $9.25 $2.95 $8.49 $1.69 $10.98 $8.75 $4.45 $11.25 $2.95 $8.99 $8.49 $2.39 $11.75 $6.49 $11.25 $11.75 $2.95 $8.99 $1.69 $8.99 $2.18 $1.09 $8.99 $8.99 $1.09 $8.99 $8.99 $8.49 $10.98 $1.09 $11.75 $9.25 $11.25 $11.25 $2.15 $11.25 $8.75 $4.45 $2.95 $11.75 $1.50 $8.99 $10.98 $2.39 $8.75 $2.15 $9.25 $1.50 $8.75 $2.15 $3.99 $8.99 $6.49 $8.75 $8.90 $8.99 $3.99 $17.50 $11.25 $1.25 $10.98 $9.25 $4.45 $1.25 $3.00 $11.25 $4.45 $4.45 $2.95 $9.25 $11.25 $2.15 $11.25 $11.25 $4.45 $2.95 $9.25 $11.25 $1.25 $8.75 $2.95 $1.25 $8.75 $4.45 $11.48 $11.48 $8.49 $2.39 $11.25 $11.75 $2.15 $1.50 $2.15 $8.75 $11.25 $8.90 $11.25 $11.25 $1.25 $4.45 $9.25 $9.25 $8.75 $9.25 $8.75 $8.75 $9.25 $8.75 $11.75 $11.75 $8.75 $8.75 $8.90 $2.95 $10.98 $8.49 $8.49 $10.98 $8.99 $8.99 $11.75 $17.50 $11.75 $3.99 $8.49 $10.98 $1.69 $17.50 $8.99 $2.39 $8.99 $2.39 $1.25 $8.75 $2.95 $11.75 $11.25 $17.50 $8.49 $8.49 $2.39 $11.25 $1.50 $8.75 $3.00 $1.25 $8.75 $4.45 $11.75 $11.75 $4.45 $21.96 $8.75 $4.45 $8.75 $11.25 $9.25 $8.99 $2.39 $9.25 $8.75 $10.98 $8.49 $3.99 $3.39 $11.75 $1.50 $4.45 $9.25 $8.75 $1.25 $11.75 $8.75 $1.50 $8.75 $8.75 $2.15 $1.50 $8.75 $2.95 $8.75 $8.75 $17.50 $8.75 $6.49 $4.45 $11.25 $11.25 $4.30 $8.75 $11.25 $4.45 $8.99 $2.39 $9.25 $9.25 $9.25 $4.45 $11.75 $11.25 $2.95 $2.15 $11.25 $11.25 $8.75 $2.15 $1.50 $9.25 $4.45 $10.98 $8.99 $2.18 $8.75 $4.45 $1.25 $8.99 $2.39 $4.45 $8.75 $10.98 $11.75 $1.50 $10.98 $8.99 $8.49 $3.99 $8.99 $8.49 $3.99 $8.49 $8.49 $8.99 $11.25 $11.25 $10.98 $10.98 $10.98 $2.39 $3.39 $8.75 $1.25 $2.95 $11.75 $1.50 $10.98 $1.69 $4.45 $8.75 $8.75 $8.75 $8.75 $4.45 $9.25 $8.75 $11.25 $8.75 $3.99 $8.99 $8.49 $11.25 $11.25 $8.75 $4.45 $8.75 $4.45 $1.25 $8.75 $8.75 $1.50 $2.15 $11.75 $11.75 $11.75 $11.75 $11.75 $1.50 $8.75 $9.25 $1.25 $8.75 $2.15 $8.99 $1.09 $4.45 $11.25 $11.75 $2.15 $8.75 $8.75 $1.25 $9.25 $2.15 $11.75 $11.25 $8.75 $11.25 $4.45 $8.49 $1.69 $8.75 $8.75 $8.99 $8.49 $9.25 $11.25 $2.95 $4.45 $11.75 $6.49 $11.48 $8.99 $4.36 $11.48 $8.99 $8.49 $11.48 $8.75 $2.15 $1.50 $8.99 $1.69 $11.25 $1.25 $9.25 $9.25 $8.75 $9.25 $8.90 $2.15 $9.25 $10.98 $8.49 $8.75 $9.25 $4.30 $9.25 $8.75 $8.75 $2.15 $1.25 $8.75 $1.25 $8.75 $5.90 $9.25 $8.75 $9.25 $4.45 $9.25 $11.75 $2.50 $9.25 $2.15 $9.25 $1.50 $1.25 $11.25 $2.95 $8.75 $8.75 $8.75 $10.98 $8.75 $8.75 $8.75 $2.15 $1.25 $10.98 $8.75 $2.15 $1.50 $8.75 $2.95 $1.25 $9.25 $9.25 $8.49 $2.39 $8.75 $4.45 $9.25 $8.75 $8.75 $8.75 $9.25 $8.75 $9.25 $8.75 $8.75 $8.75 $8.75 $9.25 $8.75 $9.25 $8.75 $9.25 $8.75 $8.75 $8.75 $9.25 $8.75 $9.25 $8.75 $8.99 $8.99 $8.75 $2.95 $1.25 $11.75 $1.50 $11.25 $11.25 $8.75 $1.50 $2.15 $16.98 $11.75 $1.50 $8.75 $4.30 $1.50 $8.75 $2.95 $1.25 $1.25 $9.25 $4.45 $11.25 $8.75 $4.45 $8.75 $2.15 $1.25 $10.98 $1.69 $8.75 $1.25 $8.75 $1.25 $11.25 $8.75 $8.75 $8.49 $1.69 $9.25 $11.75 $8.49 $2.39 $9.25 $2.95 $6.49 $8.75 $8.75 $9.25 $8.75 $6.78 $17.98 $3.39 $11.75 $11.25 $8.75 $4.45 $11.75 $9.25 $8.75 $6.49 $8.99 $2.39 $8.75 $11.25 $11.75 $4.45 $8.75 $2.15 $9.25 $9.25 $9.25 $11.89 $11.75 $11.25 $9.25 $9.25 $8.75 $8.75 $8.49 $1.69 $1.09 $11.25 $1.50 $11.25 $11.25 $11.75 $1.50 $8.49 $8.99 $22.50 $8.75 $4.30 $8.75 $11.25 $2.15 $11.25 $2.95 $4.45 $11.25 $8.49 $3.39 $2.39 $11.75 $2.15 $11.75 $8.99 $2.39 $8.75 $11.75 $11.89 $1.25 $7.50 $11.89 $1.09 $8.49 $2.39 $8.75 $8.75 $8.75 $8.75 $9.25 $11.25 $8.75 $8.90 $9.25 $8.75 $8.75 $11.75 $3.00 $1.50 $11.25 $11.75 $8.99 $10.98 $4.45 $8.75 $2.15 $9.25 $11.25 $4.45 $1.69 $10.98 $9.25 $11.75 $9.25 $4.45 $10.98 $3.99 $8.49 $1.25 $9.25 $4.45 $10.98 $8.75 $8.75 $11.75 $11.25 $8.49 $11.48 $4.45 $1.25 $11.25 $8.99 $1.09 $2.39 $11.25 $2.15 $8.75 $4.45 $8.49 $1.69 $10.98 $1.69 $9.25 $4.45 $11.25 $8.75 $11.25 $11.75 $11.25 $22.50 $8.49 $2.39 $2.50 $8.75 $8.75 $9.25 $9.25 $11.25 $8.99 $1.09 $8.99 $1.69 $11.75 $1.25 $21.96 $8.75 $2.15 $1.25 $8.75 $11.25 $9.25 $11.25 $8.75 $8.75 $11.25 $2.15 $8.99 $1.09 $1.69 $8.75 $2.15 $1.25 $8.49 $1.09 $1.09 $1.69 $11.48 $8.49 $8.49 $4.78 $9.25 $1.25 $1.25 $1.25 $11.25 $11.25 $11.75 $4.45 $11.25 $4.45 $8.99 $1.09 $11.25 $2.15 $11.25 $9.25 $11.75 $11.25 $11.25 $9.25 $2.95 $11.25 $4.45 $8.75 $2.95 $2.95 $11.25 $1.50 $10.98 $16.98 $18.50 $10.98 $3.99 $1.09 $9.25 $9.25 $8.75 $4.45 $17.50 $8.75 $4.45 $8.75 $1.25 $4.45 $9.25 $8.75 $8.75 $17.50 $4.45 $9.39 $1.25 $2.95 $11.25 $8.75 $8.75 $11.25 $2.15 $8.90 $11.25 $11.89 $10.98 $11.25 $4.45 $11.25 $11.25 $8.49 $10.98 $8.49 $3.39 $9.25 $8.75 $2.95 $3.00 $9.39 $11.75 $2.95 $1.50 $11.25 $11.75 $8.75 $2.15 $1.50 $8.49 $3.39 $11.75 $1.25 $17.50 $11.25 $1.25 $8.75 $2.95 $1.25 $11.25 $11.75 $13.35 $11.25 $11.75 $11.25 $11.25 $4.45 $11.25 $8.49 $3.39 $9.25 $2.95 $4.78 $2.39 $3.99 $8.99 $8.99 $11.25 $11.25 $8.75 $11.25 $2.95 $4.45 $9.25 $8.75 $4.45 $8.49 $8.49 $10.98 $10.98 $3.99 $11.75 $8.75 $11.75 $4.45 $1.50 $1.25 $8.49 $8.49 $8.75 $8.75 $8.75 $9.25 $8.75 $2.95 $1.25 $11.25 $1.50 $11.25 $4.45 $9.25 $8.75 $8.75 $9.25 $8.75 $4.45 $1.50 $8.75 $8.75 $8.49 $1.69 $8.75 $2.15 $9.25 $2.15 $1.50 $11.25 $11.75 $2.15 $6.49 $9.25 $9.25 $11.25 $11.25 $11.75 $11.75 $11.75 $11.25 $8.75 $2.15 $1.25 $11.75 $9.25 $11.25 $8.75 $5.90 $8.75 $4.45 $9.25 $9.25 $4.45 $11.25 $4.45 $11.25 $8.75 $2.15 $11.89 $11.25 $8.75 $2.95 $1.50 $8.75 $4.30 $8.75 $11.25 $11.75 $11.75 $2.15 $11.25 $8.99 $1.09 $8.49 $8.49 $8.49 $3.39 $8.99 $10.98 $3.99 $11.75 $2.15 $8.75 $4.45 $2.50 $11.48 $1.09 $8.49 $8.49 $16.98 $3.99 $10.98 $1.09 $8.75 $2.95 $8.75 $8.75 $2.95 $9.25 $11.25 $2.15 $9.25 $4.45 $4.45 $9.25 $11.75 $11.75 $2.15 $9.25 $8.75 $11.25 $6.49 $8.75 $11.25 $2.95 $10.98 $3.99 $1.50 $9.25 $2.15 $8.75 $11.25 $11.89 $4.45 $1.50 $1.25 $8.75 $8.75 $4.45 $11.25 $11.75 $8.49 $1.09 $1.09 $1.69 $8.99 $3.39 $8.99 $1.69 $8.49 $8.99 $3.27 $8.99 $8.99 $1.09 $10.98 $1.69 $3.99 $8.49 $1.09 $8.75 $8.75 $11.75 $8.75 $9.25 $8.75 $3.39 $8.99 $8.99 $2.39 $9.25 $8.75 $9.25 $9.25 $8.99 $3.99 $2.39 $8.49 $1.09 $8.49 $8.99 $3.39 $11.25 $1.25 $8.99 $3.99 $8.75 $8.90 $6.49 $8.75 $9.25 $11.25 $11.25 $11.25 $1.25 $8.75 $9.25 $4.45 $1.25 $8.75 $1.25 $2.15 $17.98 $8.99 $8.75 $2.95 $1.25 $11.75 $1.50 $1.50 $8.75 $8.75 $11.08 $8.99 $1.69 $8.99 $1.69 $10.98 $3.99 $3.39 $11.75 $2.15 $11.75 $2.95 $8.75 $8.75 $11.75 $11.25 $11.75 $11.25 $4.45 $11.25 $1.25 $2.18 $2.18 $2.39 $8.49 $8.99 $2.39 $11.25 $8.75 $11.75 $11.75 $11.25 $4.45 $2.15 $8.19 $10.58 $4.45 $9.25 $1.09 $8.99 $11.25 $1.50 $8.99 $3.99 $4.45 $11.75 $2.15 $11.25 $8.75 $4.45 $8.75 $9.25 $6.45 $8.75 $11.25 $11.25 $8.75 $11.75 $21.96 $8.99 $5.07 $8.49 $9.25 $11.25 $4.45 $3.39 $8.49 $8.99 $8.49 $17.50 $22.96 $8.75 $11.25 $11.89 $11.25 $8.49 $1.69 $1.09 $8.99 $8.99 $9.25 $8.75 $9.25 $2.95 $8.49 $3.99 $8.99 $8.49 $7.17 $8.49 $8.99 $17.50 $9.25 $9.25 $11.25 $1.25 $8.99 $1.09 $8.75 $4.45 $11.25 $2.15 $11.75 $11.25 $11.25 $8.75 $8.75 $4.45 $1.25 $11.75 $11.75 $2.50 $8.49 $8.99 $2.18 $11.25 $4.45 $11.25 $11.75 $8.49 $8.99 $1.69 $1.09 $8.99 $8.99 $11.25 $6.49 $11.25 $8.75 $4.45 $8.99 $1.69 $11.48 $11.75 $2.50 $8.49 $1.09 $1.09 $1.69 $8.49 $2.39 $11.75 $1.25 $8.49 $1.69 $8.49 $1.69 $11.75 $4.45 $8.75 $8.75 $4.45 $8.75 $11.25 $11.25 $8.75 $7.98 $8.49 $1.09 $8.49 $3.99 $8.49 $3.99 $8.99 $3.99 $11.25 $4.45 $8.49 $2.39 $8.49 $2.39 $3.99 $8.49 $1.25 $11.25 $4.45 $9.25 $4.45 $1.09 $8.99 $3.99 $11.25 $8.90 $9.25 $11.25 $8.75 $11.25 $11.25 $11.25 $11.25 $11.25 $8.99 $8.49 $8.75 $8.75 $4.45 $16.98 $11.75 $11.25 $9.25 $4.45 $9.25 $2.95 $8.49 $1.69 $3.75 $4.45 $9.25 $1.50 $11.25 $11.48 $11.25 $2.15 $8.75 $9.39 $8.49 $3.99 $8.19 $2.29 $11.48 $1.69 $11.48 $3.99 $8.49 $1.69 $9.25 $2.95 $8.49 $1.69 $11.25 $4.45 $9.39 $9.25 $8.75 $8.75 $4.45 $11.89 $4.45 $4.45 $8.75 $8.75 $8.75 $2.15 $8.75 $3.75 $9.25 $11.25 $4.45 $6.49 $16.98 $18.50 $2.50 $2.95 $3.99 $8.49 $8.19 $11.08 $6.49 $11.75 $2.39 $8.99 $1.09 $11.25 $4.45 $11.25 $8.99 $1.69 $21.96 $2.18 $8.99 $8.99 $2.39 $8.69 $1.69 $8.90 $2.50 $8.75 $8.99 $1.09 $8.49 $8.49 $8.75 $4.45 $17.50 $8.75 $9.25 $8.49 $2.39 $8.75 $4.45 $11.25 $11.25 $11.75 $8.75 $8.49 $8.49 $8.49 $8.99 $8.75 $4.45 $11.48 $8.75 $1.25 $2.15 $9.25 $4.45 $11.75 $2.15 $11.25 $8.99 $2.39 $8.69 $8.69 $11.75 $2.95 $11.75 $1.50 $9.25 $4.45 $1.50 $11.48 $8.99 $2.39 $11.25 $11.89 $2.15 $1.25 $11.75 $4.45 $8.75 $8.75 $11.25 $4.45 $11.25 $2.15 $4.45 $8.49 $1.09 $3.99 $11.25 $11.25 $8.49 $2.39 $8.99 $2.39 $11.25 $2.15 $8.75 $2.95 $1.25 $8.75 $11.25 $17.50 $11.75 $11.75 $11.25 $11.25 $4.45 $2.50 $8.75 $8.99 $8.99 $1.69 $8.99 $1.69 $11.25 $1.25 $11.08 $8.69 $8.99 $1.09 $11.25 $11.25 $2.95 $1.25 $8.75 $1.25 $8.75 $8.75 $2.15 $1.25 $8.49 $3.99 $8.49 $2.39 $8.49 $7.17 $8.75 $4.45 $11.48 $8.75 $8.75 $11.48 $8.75 $9.25 $8.49 $3.99 $1.50 $11.25 $11.25 $8.75 $8.75 $4.45 $9.25 $4.45 $8.75 $8.75 $4.30 $2.95 $8.75 $4.50 $9.25 $11.25 $4.45 $11.25 $11.25 $8.75 $9.25 $8.75 $2.15 $1.25 $8.75 $2.15 $1.25 $8.99 $8.49 $8.75 $8.75 $1.25 $11.75 $4.50 $8.75 $8.75 $3.99 $3.39 $8.49 $2.39 $8.99 $1.50 $11.25 $11.25 $8.75 $8.75 $2.15 $8.75 $2.15 $1.25 $21.96 $8.49 $1.69 $26.07 $11.75 $1.50 $8.99 $8.99 $11.48 $9.25 $9.25 $8.75 $8.75 $8.75 $9.25 $8.75 $8.75 $2.15 $1.25 $11.89 $8.75 $11.75 $4.45 $18.50 $9.25 $9.39 $8.49 $2.39 $8.49 $1.69 $1.09 $8.99 $8.49 $2.18 $11.25 $1.25 $8.49 $3.39 $8.49 $3.99 $11.25 $8.75 $8.49 $1.69 $16.98 $9.25 $9.25 $11.75 $1.25 $11.25 $8.75 $8.49 $8.49 $8.75 $1.25 $1.25 $1.25 $11.25 $12.98 $11.75 $11.75 $4.45 $11.25 $11.75 $10.98 $8.49 $8.49 $2.39 $9.25 $11.25 $8.75 $2.95 $1.50 $11.25 $2.95 $9.25 $2.95 $9.25 $8.75 $11.25 $8.75 $8.75 $4.45 $11.25 $1.25 $8.75 $2.95 $2.50 $9.25 $9.25 $9.25 $6.49 $17.50 $8.49 $1.69 $8.49 $3.99 $8.75 $2.95 $2.95 $8.49 $8.99 $8.99 $1.09 $8.75 $4.45 $1.25 $11.25 $11.75 $11.25 $9.25 $11.25 $1.50 $11.25 $2.15 $10.98 $8.75 $11.75 $2.95 $11.25 $11.25 $9.25 $8.75 $9.25 $8.75 $8.75 $8.75 $1.25 $11.25 $1.50 $2.15 $8.75 $8.75 $11.25 $8.75 $8.75 $11.25 $4.45 $8.49 $8.49 $8.49 $8.49 $8.99 $1.69 $2.39 $1.09 $1.09 $11.25 $2.95 $35.25 $8.75 $2.95 $1.25 $11.25 $2.15 $9.25 $4.45 $8.75 $8.75 $8.75 $4.45 $1.25 $11.89 $8.75 $2.15 $1.25 $8.49 $1.09 $1.09 $1.69 $8.69 $8.69 $9.25 $2.95 $10.98 $2.39 $22.50 $21.96 $10.98 $8.49 $1.69 $11.75 $2.95 $8.75 $11.25 $8.75 $9.25 $8.75 $8.19 $10.58 $8.75 $2.95 $1.50 $2.50 $9.25 $4.45 $9.25 $11.25 $8.69 $8.69 $3.89 $8.69 $1.69 $4.45 $9.25 $11.25 $4.45 $2.15 $8.19 $8.69 $4.45 $11.25 $1.25 $11.25 $8.75 $11.89 $11.75 $11.75 $9.25 $8.75 $2.15 $1.50 $11.75 $4.45 $3.99 $8.99 $10.98 $2.39 $1.25 $2.95 $8.75 $2.95 $9.25 $9.25 $9.25 $8.75 $2.15 $9.25 $9.25 $3.39 $8.49 $8.49 $2.39 $10.98 $1.09 $1.09 $8.49 $11.25 $1.25 $8.99 $1.09 $8.75 $2.15 $1.50 $3.99 $8.49 $8.75 $2.15 $1.50 $8.49 $10.98 $2.18 $8.75 $2.15 $1.50 $4.45 $9.25 $44.25 $10.50 $6.49 $33.75 $35.00 $27.75 $3.00 $11.25 $11.75 $10.98 $2.39 $2.50 $8.75 $4.45 $16.98 $8.75 $6.49 $16.98 $17.98 $16.98 $16.98 $8.99 $8.99 $8.49 $9.25 $8.75 $2.95 $11.48 $2.39 $8.99 $2.39 $11.25 $4.45 $8.75 $9.25 $6.49 $26.25 $8.75 $26.25 $8.75 $8.75 $11.25 $11.25 $2.15 $1.25 $11.75 $8.75 $2.15 $1.50 $11.25 $2.15 $8.99 $2.39 $11.25 $11.25 $2.15 $11.25 $11.25 $8.75 $4.78 $21.96 $8.49 $2.39 $9.25 $2.95 $16.98 $8.19 $3.89 $8.99 $1.09 $8.99 $3.39 $9.25 $4.45 $10.98 $10.98 $17.50 $11.25 $1.25 $8.75 $11.75 $4.45 $11.25 $11.25 $8.99 $1.09 $10.98 $8.49 $1.69 $11.25 $9.25 $16.98 $8.75 $4.45 $11.25 $6.49 $11.75 $9.25 $9.25 $8.75 $4.45 $2.50 $8.75 $11.75 $8.75 $9.25 $11.75 $9.25 $8.75 $9.25 $8.75 $11.25 $11.75 $9.25 $8.75 $11.75 $8.49 $1.09 $1.09 $8.49 $1.09 $1.69 $11.25 $1.25 $8.75 $2.15 $1.50 $8.49 $1.69 $1.25 $8.75 $2.95 $8.49 $3.99 $8.49 $8.49 $8.75 $11.25 $2.15 $1.50 $11.75 $8.99 $1.09 $10.98 $10.98 $11.25 $1.25 $8.75 $4.45 $4.45 $1.25 $11.89 $8.99 $8.99 $11.25 $4.45 $23.50 $8.49 $3.99 $9.25 $4.45 $4.45 $9.25 $8.75 $4.45 $8.75 $8.75 $11.75 $6.49 $17.50 $4.45 $8.75 $2.95 $1.50 $8.75 $8.75 $8.75 $4.45 $11.25 $11.25 $11.75 $11.25 $2.95 $11.25 $4.45 $3.00 $1.25 $2.95 $9.25 $8.99 $2.39 $6.49 $8.75 $8.90 $11.48 $1.09 $10.98 $9.25 $9.25 $11.25 $8.75 $11.75 $11.25 $11.25 $1.25 $9.25 $4.45 $9.25 $6.49 $11.75 $11.75 $8.99 $2.39 $8.49 $8.49 $9.25 $9.25 $1.25 $8.75 $2.95 $11.75 $2.15 $8.49 $8.49 $8.69 $16.38 $8.19 $3.89 $2.29 $11.75 $8.75 $8.75 $8.75 $4.45 $8.49 $8.49 $9.25 $8.75 $6.49 $2.95 $11.25 $11.25 $2.15 $9.25 $11.75 $21.96 $8.49 $3.39 $1.69 $8.49 $8.75 $4.45 $8.49 $3.99 $11.25 $8.75 $11.25 $2.15 $11.75 $4.45 $11.25 $9.25 $8.75 $18.50 $1.50 $8.75 $2.15 $11.48 $2.18 $3.99 $11.25 $1.50 $8.99 $2.39 $11.75 $1.50 $11.25 $6.49 $4.45 $11.25 $8.49 $3.99 $2.50 $8.75 $9.25 $3.99 $8.99 $8.75 $6.49 $13.52 $16.98 $16.98 $17.98 $16.98 $8.75 $8.75 $11.25 $11.25 $8.49 $1.09 $1.69 $1.25 $9.25 $2.95 $8.69 $8.19 $8.49 $2.39 $8.49 $2.39 $10.98 $8.99 $8.99 $1.69 $8.49 $8.75 $8.75 $11.25 $4.45 $4.45 $17.50 $8.75 $4.45 $8.75 $2.15 $1.50 $1.50 $8.99 $1.09 $8.75 $4.45 $8.75 $8.75 $11.25 $4.30 $8.49 $1.69 $1.09 $1.09 $8.75 $2.15 $1.50 $8.99 $8.49 $3.99 $8.75 $2.15 $1.25 $9.25 $2.95 $11.25 $4.45 $9.25 $2.95 $3.99 $8.99 $8.49 $8.75 $8.75 $11.25 $9.25 $8.75 $4.45 $11.25 $1.25 $9.25 $11.25 $4.45 $2.95 $10.98 $8.75 $8.75 $18.50 $9.25 $9.25 $5.00 $8.75 $2.95 $16.98 $11.25 $2.95 $8.75 $2.15 $1.50 $8.49 $2.39 $9.25 $2.15 $1.25 $8.19 $8.69 $8.19 $8.19 $8.75 $2.95 $1.25 $9.25 $2.95 $11.25 $8.75 $11.25 $11.25 $8.99 $1.09 $9.25 $9.25 $4.45 $8.49 $3.99 $2.39 $1.09 $8.99 $8.49 $8.75 $8.75 $11.25 $11.75 $4.45 $2.50 $8.75 $8.49 $3.39 $8.75 $9.25 $4.45 $1.25 $11.25 $2.15 $4.45 $2.50 $8.99 $3.99 $8.75 $2.15 $11.75 $11.75 $1.25 $8.75 $9.39 $11.25 $9.25 $9.25 $2.95 $9.25 $4.45 $1.25 $9.25 $8.75 $11.75 $1.50 $8.75 $4.45 $8.99 $1.09 $9.25 $2.95 $8.99 $1.69 $8.69 $1.69 $11.25 $4.45 $8.75 $8.75 $4.45 $11.25 $8.75 $2.95 $1.50 $8.19 $8.69 $1.09 $1.69 $8.49 $8.75 $2.95 $1.25 $8.49 $3.99 $10.98 $3.39 $11.25 $11.25 $2.15 $18.50 $8.49 $8.49 $11.25 $1.50 $8.49 $2.39 $8.99 $2.39 $11.75 $4.45 $17.50 $9.25 $9.25 $8.75 $4.45 $3.75 $8.75 $4.45 $11.75 $2.95 $1.25 $4.45 $8.75 $1.25 $1.50 $9.25 $11.25 $11.25 $11.25 $11.25 $9.25 $11.25 $4.45 $8.75 $9.25 $8.75 $8.75 $4.45 $8.75 $1.25 $2.15 $8.75 $8.75 $4.30 $8.75 $1.25 $2.95 $9.25 $2.95 $4.45 $11.25 $11.25 $9.25 $9.25 $4.50 $11.75 $1.25 $11.75 $11.75 $1.25 $1.25 $9.25 $4.45 $11.25 $11.75 $17.50 $2.15 $1.25 $11.25 $15.00 $11.25 $4.45 $4.45 $2.95 $11.25 $2.15 $1.25 $1.50 $8.75 $11.25 $2.95 $11.25 $1.25 $2.15 $11.25 $9.25 $6.49 $1.25 $8.75 $2.15 $8.75 $6.49 $11.25 $1.50 $8.75 $4.45 $8.75 $4.45 $9.25 $9.25 $1.25 $1.25 $8.75 $4.50 $11.25 $1.25 $1.50 $9.25 $2.15 $11.25 $4.45 $11.25 $4.45 $8.75 $4.45 $9.25 $4.45 $1.25 $11.25 $4.45 $8.75 $4.45 $8.75 $2.15 $8.75 $4.45 $8.75 $11.75 $1.50 $11.25 $4.45 $8.75 $2.15 $1.50 $8.75 $4.45 $8.75 $11.75 $8.75 $8.75 $11.25 $11.25 $1.50 $8.75 $2.15 $11.75 $2.15 $9.25 $2.95 $18.50 $1.25 $4.45 $8.50 $8.50 $8.50 $11.25 $11.89 $1.25 $9.39 $4.45 $8.75 $2.15 $1.50 $11.75 $8.75 $9.25 $9.25 $4.45 $1.25 $11.25 $9.25 $2.95 $8.75 $8.75 $2.15 $8.75 $11.25 $11.25 $11.25 $11.75 $11.25 $2.15 $11.25 $2.15 $8.99 $8.99 $8.75 $9.25 $9.25 $11.25 $8.75 $4.45 $8.75 $1.25 $4.45 $11.25 $1.25 $8.75 $8.75 $11.25 $8.75 $1.25 $1.25 $1.25 $9.25 $11.75 $2.15 $8.75 $4.45 $8.75 $4.45 $11.25 $9.25 $8.75 $9.25 $4.45 $11.75 $4.45 $1.25 $4.45 $11.75 $9.25 $11.25 $2.15 $23.50 $9.25 $2.15 $18.50 $8.75 $5.90 $11.89 $4.45 $8.75 $4.45 $9.25 $2.95 $11.25 $2.95 $11.25 $11.25 $11.25 $2.95 $11.75 $9.25 $9.25 $2.95 $11.25 $2.15 $9.25 $8.90 $8.75 $11.25 $11.25 $11.25 $8.75 $2.15 $1.25 $11.25 $1.25 $8.75 $4.45 $1.25 $11.25 $11.25 $11.75 $1.25 $11.25 $11.25 $11.25 $8.75 $8.75 $18.50 $11.75 $1.25 $4.45 $9.25 $6.49 $4.45 $8.75 $11.25 $6.49 $11.75 $8.75 $9.25 $11.25 $2.15 $8.75 $4.45 $11.25 $4.45 $8.75 $9.25 $4.45 $1.25 $1.25 $8.75 $11.25 $11.75 $2.15 $11.75 $4.45 $11.75 $1.25 $11.75 $11.75 $11.25 $4.30 $9.39 $9.39 $8.75 $1.25 $9.25 $4.45 $11.25 $1.25 $8.75 $1.25 $2.95 $11.25 $4.45 $8.75 $1.50 $4.45 $4.45 $9.25 $8.75 $2.95 $1.25 $11.25 $2.95 $8.75 $8.75 $8.75 $8.75 $4.30 $9.25 $9.39 $4.45 $9.25 $1.25 $22.50 $4.45 $2.95 $2.15 $23.50 $11.75 $2.15 $1.25 $9.25 $4.45 $11.25 $11.75 $17.50 $8.75 $11.75 $11.25 $8.75 $4.45 $11.75 $1.50 $8.75 $8.75 $11.75 $9.25 $11.25 $4.45 $11.75 $9.25 $4.45 $11.25 $8.75 $8.75 $2.15 $1.50 $8.75 $4.45 $9.25 $8.75 $1.50 $1.25 $1.25 $1.25 $8.75 $2.95 $11.25 $11.25 $1.50 $11.75 $11.25 $2.15 $9.25 $8.75 $11.75 $2.95 $1.50 $8.75 $1.50 $1.25 $8.75 $11.75 $11.25 $11.25 $11.75 $11.25 $11.75 $8.75 $17.80 $5.00 $5.00 $8.75 $2.95 $1.25 $11.25 $1.25 $2.15 $11.25 $2.50 $9.25 $1.25 $11.25 $2.95 $11.75 $2.15 $11.25 $1.50 $8.99 $1.99 $11.49 $8.75 $4.45 $1.25 $8.75 $4.45 $1.25 $1.50 $11.75 $8.75 $8.75 $11.25 $6.49 $11.75 $8.75 $2.15 $1.25 $6.49 $8.75 $4.45 $8.75 $4.45 $8.75 $11.25 $4.45 $6.49 $9.25 $8.75 $1.25 $4.45 $11.25 $8.75 $1.50 $8.75 $1.50 $1.25 $9.25 $9.39 $4.45 $9.25 $8.75 $4.45 $1.25 $11.25 $11.75 $8.75 $11.25 $9.25 $8.75 $11.25 $2.50 $17.50 $9.25 $4.45 $11.25 $1.25 $8.75 $4.45 $1.50 $8.75 $1.50 $1.25 $9.39 $8.75 $8.75 $4.45 $11.25 $1.25 $9.25 $4.45 $11.25 $8.75 $3.00 $8.75 $2.15 $1.25 $11.25 $11.25 $4.45 $11.25 $11.25 $8.75 $11.75 $11.75 $11.75 $8.75 $4.45 $1.25 $1.50 $8.75 $4.45 $1.25 $9.25 $9.25 $8.75 $4.45 $1.25 $11.75 $11.25 $1.25 $11.75 $11.25 $9.25 $2.15 $1.50 $8.75 $4.45 $11.75 $11.75 $11.25 $8.75 $8.75 \n"
     ]
    }
   ],
   "source": [
    "#step 14\n",
    "print(chipo[\"item_price\"].sum())"
   ]
  },
  {
   "cell_type": "code",
   "execution_count": 65,
   "id": "206d119e-df03-4944-bacb-86818a20452e",
   "metadata": {},
   "outputs": [
    {
     "name": "stdout",
     "output_type": "stream",
     "text": [
      "1834\n"
     ]
    }
   ],
   "source": [
    "#Step 15\n",
    "print(len(chipo.order_id.unique()))"
   ]
  },
  {
   "cell_type": "code",
   "execution_count": 66,
   "id": "72df72cc-06bb-4882-8a20-5f79350237c2",
   "metadata": {},
   "outputs": [
    {
     "name": "stdout",
     "output_type": "stream",
     "text": [
      "50\n"
     ]
    }
   ],
   "source": [
    "#Step 17\n",
    "print(len(chipo.item_name.unique()))"
   ]
  },
  {
   "cell_type": "markdown",
   "id": "1fb2db4b-b49b-4daf-a625-d445e34c1f97",
   "metadata": {},
   "source": [
    "Question 6"
   ]
  },
  {
   "cell_type": "markdown",
   "id": "21ceaf83-9702-4413-8aad-3837d67276bf",
   "metadata": {},
   "source": [
    "Step 1. Import the necessary libraries\n",
    "Step 2. Load the dataset\n",
    "Step 3. Create a line plot showing the number of marriages and divorces per capita in the U.S. between 1867 and 2014\n",
    "Step 4. Label both lines and show the legend\n",
    "Step 5. Don't forget to label your axes!"
   ]
  },
  {
   "cell_type": "code",
   "execution_count": 72,
   "id": "bcb88bf5-222e-4781-8e8e-cb9df00eb5c7",
   "metadata": {},
   "outputs": [
    {
     "data": {
      "image/png": "[encoded data removed]",
      "text/plain": [
       "<Figure size 900x900 with 1 Axes>"
      ]
     },
     "metadata": {},
     "output_type": "display_data"
    }
   ],
   "source": [
    "import pandas as pd\n",
    "import matplotlib.pyplot as plt\n",
    "%matplotlib inline\n",
    "\n",
    "data = pd.read_csv('C:/Users/ishag/Downloads/us-marriages-divorces-1867-2014.csv')\n",
    "\n",
    "data_year = pd.DataFrame(data, columns=['Year'])\n",
    "data_comp = pd.DataFrame(data, columns=['Marriages_per_1000', 'Divorces_per_1000']) \n",
    "\n",
    "fig, ax = plt.subplots(figsize=(9, 9))\n",
    "for column in data_comp:\n",
    "    ax.plot(data['Year'], data_comp[column])\n",
    "\n",
    "ax.set_title('The Number of Marriages and Divorces per Capita in the U.S. between 1867 and 2014')\n",
    "ax.legend(data_comp)\n",
    "plt.xlabel(\"Year\")\n",
    "plt.ylabel(\"Per Capita\")\n",
    "plt.show()\n"
   ]
  },
  {
   "cell_type": "markdown",
   "id": "9131c2e3-560b-40b7-a762-5ee3ee8b8b17",
   "metadata": {},
   "source": [
    "Question 7: Marriages and Divorces Per Capita in the U.S. (1900, 1950, and 2000)"
   ]
  },
  {
   "cell_type": "markdown",
   "id": "02ef8db3-ae89-4ff0-ad80-4108f6caa925",
   "metadata": {},
   "source": [
    "Step 1. Import the necessary libraries\n",
    "Step 2. Load the dataset\n",
    "Step 3. Filter data for the years 1900, 1950, and 2000\n",
    "Step 4. Create a vertical bar chart comparing the number of marriages and divorces per capita for the selected years\n",
    "Step 5. Label your axes!"
   ]
  },
  {
   "cell_type": "code",
   "execution_count": 76,
   "id": "ca7f249c-414b-4508-8dc0-c160852b5496",
   "metadata": {},
   "outputs": [
    {
     "data": {
      "image/png": "[encoded data removed]",
      "text/plain": [
       "<Figure size 1000x600 with 1 Axes>"
      ]
     },
     "metadata": {},
     "output_type": "display_data"
    }
   ],
   "source": [
    "import pandas as pd\n",
    "import matplotlib.pyplot as plt\n",
    "\n",
    "# Load the dataset\n",
    "data_url = r\"C:\\Users\\ishag\\Downloads\\us-marriages-divorces-1867-2014.csv\"  \n",
    "marriage_divorce_data = pd.read_csv(data_url)\n",
    "\n",
    "# Filter data for the years 1900, 1950, and 2000\n",
    "years_of_interest = [1900, 1950, 2000]\n",
    "filtered_data = marriage_divorce_data[marriage_divorce_data['Year'].isin(years_of_interest)]\n",
    "\n",
    "# Create a vertical bar chart\n",
    "plt.figure(figsize=(10, 6)) \n",
    "\n",
    "bar_width = 5  # Adjusted bar width for better spacing\n",
    "marriages_bars = plt.bar(filtered_data['Year'] - bar_width / 2, filtered_data['Marriages_per_1000'], width=bar_width, label='Marriages per 1000', color='steelblue')\n",
    "divorces_bars = plt.bar(filtered_data['Year'] + bar_width / 2, filtered_data['Divorces_per_1000'], width=bar_width, label='Divorces per 1000', color='salmon')\n",
    "\n",
    "# Add titles and labels\n",
    "plt.title('Marriages and Divorces per Capita in the U.S. (1900, 1950, 2000)')\n",
    "plt.xlabel('Year')\n",
    "plt.ylabel('Rate per 1000')\n",
    "plt.xticks(filtered_data['Year'], years_of_interest)  # Center ticks between bars\n",
    "plt.legend()\n",
    "\n",
    "# Add data labels to the bars\n",
    "for bar in marriages_bars:\n",
    "    height = bar.get_height()\n",
    "    plt.annotate(f'{height:.1f}',\n",
    "                 xy=(bar.get_x() + bar.get_width() / 2, height),\n",
    "                 xytext=(0, 3),  # 3 points vertical offset\n",
    "                 textcoords=\"offset points\",\n",
    "                 ha='center', va='bottom')\n",
    "\n",
    "for bar in divorces_bars:\n",
    "    height = bar.get_height()\n",
    "    plt.annotate(f'{height:.1f}',\n",
    "                 xy=(bar.get_x() + bar.get_width() / 2, height),\n",
    "                 xytext=(0, 3),  # 3 points vertical offset\n",
    "                 textcoords=\"offset points\",\n",
    "                 ha='center', va='bottom')\n",
    "\n",
    "plt.grid(True)  # Add grid lines\n",
    "plt.tight_layout()  # Adjust layout for better spacing\n",
    "\n",
    "plt.show()\n"
   ]
  },
  {
   "cell_type": "markdown",
   "id": "f889037d-404f-46a8-b139-7665bbf0d0b1",
   "metadata": {},
   "source": [
    "Question 8: Deadliest Actors in Hollywood"
   ]
  },
  {
   "cell_type": "markdown",
   "id": "b1f5fe7d-1824-4aa2-b35a-5bee3f165c8e",
   "metadata": {},
   "source": [
    "Step 1. Import the necessary libraries\n",
    "Step 2. Load the dataset containing information about actors and their kill counts\n",
    "Step 3. Sort the actors by their kill count\n",
    "Step 4. Create a horizontal bar chart comparing the kill counts of different actors\n",
    "Step 5. Label each bar with the corresponding actor's name\n",
    "Step 6. Label your axes!"
   ]
  },
  {
   "cell_type": "code",
   "execution_count": 78,
   "id": "bd8e5a72-6346-4e36-ae84-bc86e7581233",
   "metadata": {},
   "outputs": [
    {
     "data": {
      "image/png": "[encoded data removed]",
      "text/plain": [
       "<Figure size 1200x800 with 1 Axes>"
      ]
     },
     "metadata": {},
     "output_type": "display_data"
    }
   ],
   "source": [
    "import pandas as pd\n",
    "import matplotlib.pyplot as plt\n",
    "\n",
    "# Load the dataset\n",
    "actor_data = pd.read_csv(r\"C:\\Users\\ishag\\Downloads\\actor_kill_counts.csv\")\n",
    "\n",
    "# Sort the data by kill count in descending order\n",
    "sorted_actor_data = actor_data.sort_values(by='Count', ascending=False)\n",
    "\n",
    "# Create a horizontal bar chart\n",
    "plt.figure(figsize=(12, 8))  # Adjust the figure size\n",
    "\n",
    "plt.barh(sorted_actor_data['Actor'], sorted_actor_data['Count'], color='purple')\n",
    "plt.xlabel('Number of Kills')\n",
    "plt.ylabel('Actor')\n",
    "plt.title('Deadliest Actors in Hollywood')\n",
    "plt.tight_layout()\n",
    "\n",
    "# Display the kill count on the bars\n",
    "for index, value in enumerate(sorted_actor_data['Count']):\n",
    "    plt.text(value, index, str(value))\n",
    "\n",
    "plt.grid(True)  # Add grid lines\n",
    "\n",
    "plt.show()\n"
   ]
  },
  {
   "cell_type": "markdown",
   "id": "782afaee-d1d0-4c64-8739-0ef464ec1213",
   "metadata": {},
   "source": [
    "Question 9: Assassinated Roman Emperors"
   ]
  },
  {
   "cell_type": "markdown",
   "id": "0e57e82f-b645-4cb1-878e-6f402c701c71",
   "metadata": {},
   "source": [
    "Step 1. Import the necessary libraries\n",
    "Step 2. Load the dataset containing information about Roman Emperors and their fate\n",
    "Step 3. Calculate the fraction of assassinated emperors\n",
    "Step 4. Create a pie chart to visualize the fraction of assassinated emperors\n",
    "Step 5. Ensure that the pie chart is an even circle, labels the categories, and displays percentage breakdowns"
   ]
  },
  {
   "cell_type": "code",
   "execution_count": 80,
   "id": "80bbdfe8-2bdb-4b6b-805c-dd092815a931",
   "metadata": {},
   "outputs": [
    {
     "data": {
      "image/png": "[encoded data removed]",
      "text/plain": [
       "<Figure size 700x700 with 1 Axes>"
      ]
     },
     "metadata": {},
     "output_type": "display_data"
    }
   ],
   "source": [
    "import pandas as pd\n",
    "import matplotlib.pyplot as plt\n",
    "\n",
    "# Load the dataset\n",
    "emperor_data = pd.read_csv(r\"C:\\Users\\ishag\\Downloads\\roman-emperor-reigns.csv\")\n",
    "\n",
    "# Count the number of emperors who were assassinated\n",
    "assassinated_emperors = emperor_data[emperor_data['Cause_of_Death'] == 'Assassinated']['Emperor'].count()\n",
    "\n",
    "# Count the number of emperors who were not assassinated\n",
    "not_assassinated_emperors = len(emperor_data) - assassinated_emperors\n",
    "\n",
    "# Create data for the pie chart\n",
    "pie_labels = ['Assassinated', 'Not Assassinated']\n",
    "pie_sizes = [assassinated_emperors, not_assassinated_emperors]\n",
    "pie_colors = ['grey', 'pink']\n",
    "explode = (0.1, 0)  # Explode the 1st slice\n",
    "\n",
    "# Create a pie chart\n",
    "plt.figure(figsize=(7, 7))  # Adjust the figure size\n",
    "\n",
    "plt.pie(pie_sizes, explode=explode, labels=pie_labels, colors=pie_colors, autopct='%1.1f%%', shadow=True, startangle=140)\n",
    "plt.title('Fraction of Roman Emperors who were Assassinated')\n",
    "plt.axis('equal')  # Equal aspect ratio ensures the pie chart is circular\n",
    "\n",
    "# Add legend on the right side\n",
    "plt.legend(loc='upper right')\n",
    "\n",
    "plt.show()"
   ]
  },
  {
   "cell_type": "markdown",
   "id": "a43d2671-984b-456d-8e5a-2beb57570265",
   "metadata": {},
   "source": [
    "Question 10: Arcade Revenue vs. Computer Science PhDs"
   ]
  },
  {
   "cell_type": "markdown",
   "id": "e4041599-239f-44d8-a04a-aa920019a1db",
   "metadata": {},
   "source": [
    "Step 1. Import the necessary libraries\n",
    "Step 2. Load the dataset containing information about arcade revenue and Computer Science PhDs\n",
    "Step 3. Create a scatter plot to visualize the relationship between total arcade revenue and Computer Science PhDs\n",
    "Step 4. Label your axes to provide context\n",
    "Step 5. Color each dot according to its year to show the year-wise distribution"
   ]
  },
  {
   "cell_type": "code",
   "execution_count": 82,
   "id": "560dbfab-30b9-45c8-8ade-f235bf2189d1",
   "metadata": {},
   "outputs": [
    {
     "data": {
      "image/png": "[encoded data removed]",
      "text/plain": [
       "<Figure size 1200x800 with 2 Axes>"
      ]
     },
     "metadata": {},
     "output_type": "display_data"
    }
   ],
   "source": [
    "import pandas as pd\n",
    "import matplotlib.pyplot as plt\n",
    "\n",
    "# Load the dataset\n",
    "data = pd.read_csv(r\"C:\\Users\\ishag\\Downloads\\arcade-revenue-vs-cs-doctorates.csv\")\n",
    "\n",
    "# Create a scatter plot\n",
    "plt.figure(figsize=(12, 8))  # Adjust the figure size\n",
    "\n",
    "# Use 'tab20' colormap for distinct colors\n",
    "scatter = plt.scatter(data['Total Arcade Revenue (billions)'], data['Computer Science Doctorates Awarded (US)'],\n",
    "                      c=data['Year'], cmap='tab20', s=100, alpha=0.7)\n",
    "\n",
    "# Add data labels\n",
    "for i, row in data.iterrows():\n",
    "    plt.annotate(f\"{int(row['Year'])}\", (row['Total Arcade Revenue (billions)'], row['Computer Science Doctorates Awarded (US)']),\n",
    "                 textcoords=\"offset points\", xytext=(0, 10), ha='center', fontsize=8, color='black')\n",
    "\n",
    "plt.title('Relationship between Arcade Revenue and Computer Science PhDs (2000-2009)')\n",
    "plt.xlabel('Total Arcade Revenue (billions)')\n",
    "plt.ylabel('Number of Computer Science Doctorates Awarded (US)')\n",
    "plt.colorbar(scatter, label='Year')\n",
    "\n",
    "plt.show()"
   ]
  },
  {
   "cell_type": "code",
   "execution_count": null,
   "id": "8478df3f-27c7-4032-bc07-24edbb74e26e",
   "metadata": {},
   "outputs": [],
   "source": []
  }
 ],
 "metadata": {
  "kernelspec": {
   "display_name": "Python 3 (ipykernel)",
   "language": "python",
   "name": "python3"
  },
  "language_info": {
   "codemirror_mode": {
    "name": "ipython",
    "version": 3
   },
   "file_extension": ".py",
   "mimetype": "text/x-python",
   "name": "python",
   "nbconvert_exporter": "python",
   "pygments_lexer": "ipython3",
   "version": "3.11.7"
  }
 },
 "nbformat": 4,
 "nbformat_minor": 5
}
